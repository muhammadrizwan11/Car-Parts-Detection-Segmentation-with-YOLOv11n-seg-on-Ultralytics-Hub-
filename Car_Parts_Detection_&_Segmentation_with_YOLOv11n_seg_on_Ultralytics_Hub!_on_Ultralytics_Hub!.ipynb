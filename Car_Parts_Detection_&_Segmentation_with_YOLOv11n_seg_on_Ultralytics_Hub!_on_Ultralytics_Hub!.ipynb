{
  "cells": [
    {
      "cell_type": "markdown",
      "metadata": {
        "id": "view-in-github",
        "colab_type": "text"
      },
      "source": [
        "<a href=\"https://colab.research.google.com/github/muhammadrizwan11/Car-Parts-Detection-Segmentation-with-YOLOv11n-seg-on-Ultralytics-Hub-/blob/main/Car_Parts_Detection_%26_Segmentation_with_YOLOv11n_seg_on_Ultralytics_Hub!_on_Ultralytics_Hub!.ipynb\" target=\"_parent\"><img src=\"https://colab.research.google.com/assets/colab-badge.svg\" alt=\"Open In Colab\"/></a>"
      ]
    },
    {
      "cell_type": "markdown",
      "metadata": {
        "id": "FIzICjaph_Wy"
      },
      "source": [
        "\n",
        "\n",
        "\n",
        "\n",
        "\n",
        "Welcome to the [Ultralytics](https://ultralytics.com/) HUB notebook!\n",
        "\n",
        "This notebook allows you to train Ultralytics [YOLO](https://github.com/ultralytics/ultralytics) 🚀 models using [HUB](https://hub.ultralytics.com/). Please browse the HUB <a href=\"https://docs.ultralytics.com/hub/\">Docs</a> for details, raise an issue on <a href=\"https://github.com/ultralytics/hub/issues/new/choose\">GitHub</a> for support, and join our <a href=\"https://ultralytics.com/discord\">Discord</a> community for questions and discussions!\n",
        "</div>"
      ]
    },
    {
      "cell_type": "markdown",
      "metadata": {
        "id": "eRQ2ow94MiOv"
      },
      "source": [
        "# Setup\n",
        "\n",
        "Pip install `ultralytics` and [dependencies](https://github.com/ultralytics/ultralytics/blob/main/pyproject.toml) and check software and hardware.\n",
        "\n",
        "[![PyPI - Version](https://img.shields.io/pypi/v/ultralytics?logo=pypi&logoColor=white)](https://pypi.org/project/ultralytics/) [![Downloads](https://static.pepy.tech/badge/ultralytics)](https://www.pepy.tech/projects/ultralytics) [![PyPI - Python Version](https://img.shields.io/pypi/pyversions/ultralytics?logo=python&logoColor=gold)](https://pypi.org/project/ultralytics/)"
      ]
    },
    {
      "cell_type": "code",
      "execution_count": null,
      "metadata": {
        "colab": {
          "base_uri": "https://localhost:8080/"
        },
        "id": "FyDnXd-n4c7Y",
        "outputId": "b26e72b5-110d-4f16-abe3-9f39b0772bac"
      },
      "outputs": [
        {
          "output_type": "stream",
          "name": "stdout",
          "text": [
            "Ultralytics 8.3.103 🚀 Python-3.11.11 torch-2.6.0+cu124 CUDA:0 (Tesla T4, 15095MiB)\n",
            "Setup complete ✅ (2 CPUs, 12.7 GB RAM, 39.4/112.6 GB disk)\n"
          ]
        }
      ],
      "source": [
        "!uv pip install ultralytics\n",
        "from ultralytics import YOLO, checks, hub\n",
        "\n",
        "checks()  # Verify system setup for Ultralytics training"
      ]
    },
    {
      "cell_type": "markdown",
      "metadata": {
        "id": "cQ9BwaAqxAm4"
      },
      "source": [
        "# Start\n",
        "\n",
        "⚡ Login with your API key, load your YOLO 🚀 model, and start training in 3 lines of code!"
      ]
    },
    {
      "cell_type": "code",
      "source": [
        "hub.login('your key')\n",
        "\n",
        "model = YOLO('https://hub.ultralytics.com/models/GxOBxL0Bx03wa9rublhs')\n",
        "results = model.train()"
      ],
      "metadata": {
        "id": "V2-sUiQZuM8B",
        "outputId": "2ca9472a-246c-4eb3-f7a0-310316ac15a6",
        "colab": {
          "base_uri": "https://localhost:8080/"
        }
      },
      "execution_count": null,
      "outputs": [
        {
          "output_type": "stream",
          "name": "stdout",
          "text": [
            "\u001b[31m\u001b[1mrequirements:\u001b[0m Ultralytics requirement ['hub-sdk>=0.0.12'] not found, attempting AutoUpdate...\n",
            "Collecting hub-sdk>=0.0.12\n",
            "  Downloading hub_sdk-0.0.20-py3-none-any.whl.metadata (10 kB)\n",
            "Requirement already satisfied: requests in /usr/local/lib/python3.11/dist-packages (from hub-sdk>=0.0.12) (2.32.3)\n",
            "Requirement already satisfied: charset-normalizer<4,>=2 in /usr/local/lib/python3.11/dist-packages (from requests->hub-sdk>=0.0.12) (3.4.1)\n",
            "Requirement already satisfied: idna<4,>=2.5 in /usr/local/lib/python3.11/dist-packages (from requests->hub-sdk>=0.0.12) (3.10)\n",
            "Requirement already satisfied: urllib3<3,>=1.21.1 in /usr/local/lib/python3.11/dist-packages (from requests->hub-sdk>=0.0.12) (2.3.0)\n",
            "Requirement already satisfied: certifi>=2017.4.17 in /usr/local/lib/python3.11/dist-packages (from requests->hub-sdk>=0.0.12) (2025.1.31)\n",
            "Downloading hub_sdk-0.0.20-py3-none-any.whl (44 kB)\n",
            "   ━━━━━━━━━━━━━━━━━━━━━━━━━━━━━━━━━━━━━━━━ 44.3/44.3 kB 6.1 MB/s eta 0:00:00\n",
            "Installing collected packages: hub-sdk\n",
            "Successfully installed hub-sdk-0.0.20\n",
            "\n",
            "\u001b[31m\u001b[1mrequirements:\u001b[0m AutoUpdate success ✅ 2.5s, installed 1 package: ['hub-sdk>=0.0.12']\n",
            "\u001b[31m\u001b[1mrequirements:\u001b[0m ⚠️ \u001b[1mRestart runtime or rerun command for updates to take effect\u001b[0m\n",
            "\n",
            "\u001b[34m\u001b[1mUltralytics HUB: \u001b[0mNew authentication successful ✅\n",
            "\u001b[34m\u001b[1mUltralytics HUB: \u001b[0mView model at https://hub.ultralytics.com/models/GxOBxL0Bx03wa9rublhs 🚀\n",
            "Downloading https://github.com/ultralytics/assets/releases/download/v8.3.0/yolo11n-seg.pt to 'yolo11n-seg.pt'...\n"
          ]
        },
        {
          "output_type": "stream",
          "name": "stderr",
          "text": [
            "100%|██████████| 5.90M/5.90M [00:00<00:00, 104MB/s]\n"
          ]
        },
        {
          "output_type": "stream",
          "name": "stdout",
          "text": [
            "Ultralytics 8.3.103 🚀 Python-3.11.11 torch-2.6.0+cu124 CUDA:0 (Tesla T4, 15095MiB)\n",
            "\u001b[34m\u001b[1mengine/trainer: \u001b[0mtask=segment, mode=train, model=yolo11n-seg.pt, data=https://storage.googleapis.com/ultralytics-hub.appspot.com/users/QUfL4JV8T8Uo5jNedmDJEaWMMQj2/datasets/0ypXu21SQni55IfGErsC/carparts-seg.zip, epochs=100, time=None, patience=100, batch=-1, imgsz=640, save=True, save_period=-1, cache=None, device=None, workers=8, project=None, name=train, exist_ok=False, pretrained=True, optimizer=auto, verbose=True, seed=0, deterministic=True, single_cls=False, rect=False, cos_lr=False, close_mosaic=10, resume=False, amp=True, fraction=1.0, profile=False, freeze=None, multi_scale=False, overlap_mask=True, mask_ratio=4, dropout=0.0, val=True, split=val, save_json=False, save_hybrid=False, conf=None, iou=0.7, max_det=300, half=False, dnn=False, plots=True, source=None, vid_stride=1, stream_buffer=False, visualize=False, augment=False, agnostic_nms=False, classes=None, retina_masks=False, embed=None, show=False, save_frames=False, save_txt=False, save_conf=False, save_crop=False, show_labels=True, show_conf=True, show_boxes=True, line_width=None, format=torchscript, keras=False, optimize=False, int8=False, dynamic=False, simplify=True, opset=None, workspace=None, nms=False, lr0=0.01, lrf=0.01, momentum=0.937, weight_decay=0.0005, warmup_epochs=3.0, warmup_momentum=0.8, warmup_bias_lr=0.1, box=7.5, cls=0.5, dfl=1.5, pose=12.0, kobj=1.0, nbs=64, hsv_h=0.015, hsv_s=0.7, hsv_v=0.4, degrees=0.0, translate=0.1, scale=0.5, shear=0.0, perspective=0.0, flipud=0.0, fliplr=0.5, bgr=0.0, mosaic=1.0, mixup=0.0, copy_paste=0.0, copy_paste_mode=flip, auto_augment=randaugment, erasing=0.4, crop_fraction=1.0, cfg=None, tracker=botsort.yaml, save_dir=runs/segment/train\n",
            "Downloading https://storage.googleapis.com/ultralytics-hub.appspot.com/users/QUfL4JV8T8Uo5jNedmDJEaWMMQj2/datasets/0ypXu21SQni55IfGErsC/carparts-seg.zip to 'carparts-seg.zip'...\n"
          ]
        },
        {
          "output_type": "stream",
          "name": "stderr",
          "text": [
            "100%|██████████| 133M/133M [00:06<00:00, 22.7MB/s]\n",
            "Unzipping carparts-seg.zip to /content/datasets/carparts-seg...: 100%|██████████| 7677/7677 [00:01<00:00, 4272.06file/s]\n"
          ]
        },
        {
          "output_type": "stream",
          "name": "stdout",
          "text": [
            "Downloading https://ultralytics.com/assets/Arial.ttf to '/root/.config/Ultralytics/Arial.ttf'...\n"
          ]
        },
        {
          "output_type": "stream",
          "name": "stderr",
          "text": [
            "100%|██████████| 755k/755k [00:00<00:00, 22.2MB/s]\n"
          ]
        },
        {
          "output_type": "stream",
          "name": "stdout",
          "text": [
            "Overriding model.yaml nc=80 with nc=23\n",
            "\n",
            "                   from  n    params  module                                       arguments                     \n",
            "  0                  -1  1       464  ultralytics.nn.modules.conv.Conv             [3, 16, 3, 2]                 \n",
            "  1                  -1  1      4672  ultralytics.nn.modules.conv.Conv             [16, 32, 3, 2]                \n",
            "  2                  -1  1      6640  ultralytics.nn.modules.block.C3k2            [32, 64, 1, False, 0.25]      \n",
            "  3                  -1  1     36992  ultralytics.nn.modules.conv.Conv             [64, 64, 3, 2]                \n",
            "  4                  -1  1     26080  ultralytics.nn.modules.block.C3k2            [64, 128, 1, False, 0.25]     \n",
            "  5                  -1  1    147712  ultralytics.nn.modules.conv.Conv             [128, 128, 3, 2]              \n",
            "  6                  -1  1     87040  ultralytics.nn.modules.block.C3k2            [128, 128, 1, True]           \n",
            "  7                  -1  1    295424  ultralytics.nn.modules.conv.Conv             [128, 256, 3, 2]              \n",
            "  8                  -1  1    346112  ultralytics.nn.modules.block.C3k2            [256, 256, 1, True]           \n",
            "  9                  -1  1    164608  ultralytics.nn.modules.block.SPPF            [256, 256, 5]                 \n",
            " 10                  -1  1    249728  ultralytics.nn.modules.block.C2PSA           [256, 256, 1]                 \n",
            " 11                  -1  1         0  torch.nn.modules.upsampling.Upsample         [None, 2, 'nearest']          \n",
            " 12             [-1, 6]  1         0  ultralytics.nn.modules.conv.Concat           [1]                           \n",
            " 13                  -1  1    111296  ultralytics.nn.modules.block.C3k2            [384, 128, 1, False]          \n",
            " 14                  -1  1         0  torch.nn.modules.upsampling.Upsample         [None, 2, 'nearest']          \n",
            " 15             [-1, 4]  1         0  ultralytics.nn.modules.conv.Concat           [1]                           \n",
            " 16                  -1  1     32096  ultralytics.nn.modules.block.C3k2            [256, 64, 1, False]           \n",
            " 17                  -1  1     36992  ultralytics.nn.modules.conv.Conv             [64, 64, 3, 2]                \n",
            " 18            [-1, 13]  1         0  ultralytics.nn.modules.conv.Concat           [1]                           \n",
            " 19                  -1  1     86720  ultralytics.nn.modules.block.C3k2            [192, 128, 1, False]          \n",
            " 20                  -1  1    147712  ultralytics.nn.modules.conv.Conv             [128, 128, 3, 2]              \n",
            " 21            [-1, 10]  1         0  ultralytics.nn.modules.conv.Concat           [1]                           \n",
            " 22                  -1  1    378880  ultralytics.nn.modules.block.C3k2            [384, 256, 1, True]           \n",
            " 23        [16, 19, 22]  1    687925  ultralytics.nn.modules.head.Segment          [23, 32, 64, [64, 128, 256]]  \n",
            "YOLO11n-seg summary: 203 layers, 2,847,093 parameters, 2,847,077 gradients, 10.4 GFLOPs\n",
            "\n",
            "Transferred 510/561 items from pretrained weights\n",
            "\u001b[34m\u001b[1mTensorBoard: \u001b[0mStart with 'tensorboard --logdir runs/segment/train', view at http://localhost:6006/\n",
            "Freezing layer 'model.23.dfl.conv.weight'\n",
            "\u001b[34m\u001b[1mAMP: \u001b[0mrunning Automatic Mixed Precision (AMP) checks...\n",
            "Downloading https://github.com/ultralytics/assets/releases/download/v8.3.0/yolo11n.pt to 'yolo11n.pt'...\n"
          ]
        },
        {
          "output_type": "stream",
          "name": "stderr",
          "text": [
            "100%|██████████| 5.35M/5.35M [00:00<00:00, 117MB/s]\n"
          ]
        },
        {
          "output_type": "stream",
          "name": "stdout",
          "text": [
            "\u001b[34m\u001b[1mAMP: \u001b[0mchecks passed ✅\n"
          ]
        },
        {
          "output_type": "stream",
          "name": "stderr",
          "text": [
            "\u001b[34m\u001b[1mtrain: \u001b[0mScanning /content/datasets/carparts-seg/train/labels... 3156 images, 116 backgrounds, 0 corrupt: 100%|██████████| 3156/3156 [00:01<00:00, 1667.98it/s]\n"
          ]
        },
        {
          "output_type": "stream",
          "name": "stdout",
          "text": [
            "\u001b[34m\u001b[1mtrain: \u001b[0mNew cache created: /content/datasets/carparts-seg/train/labels.cache\n",
            "\u001b[34m\u001b[1malbumentations: \u001b[0mBlur(p=0.01, blur_limit=(3, 7)), MedianBlur(p=0.01, blur_limit=(3, 7)), ToGray(p=0.01, num_output_channels=3, method='weighted_average'), CLAHE(p=0.01, clip_limit=(1.0, 4.0), tile_grid_size=(8, 8))\n",
            "\u001b[34m\u001b[1mAutoBatch: \u001b[0mComputing optimal batch size for imgsz=640 at 60.0% CUDA memory utilization.\n",
            "\u001b[34m\u001b[1mAutoBatch: \u001b[0mCUDA:0 (Tesla T4) 14.74G total, 0.10G reserved, 0.07G allocated, 14.57G free\n",
            "      Params      GFLOPs  GPU_mem (GB)  forward (ms) backward (ms)                   input                  output\n",
            "     2847093       10.38         0.466         67.73           nan        (1, 3, 640, 640)                    list\n",
            "     2847093       20.76         1.007         34.98           nan        (2, 3, 640, 640)                    list\n",
            "     2847093       41.52         1.801         39.52           nan        (4, 3, 640, 640)                    list\n",
            "     2847093       83.04         3.370         40.32           nan        (8, 3, 640, 640)                    list\n",
            "     2847093       166.1         6.394         70.92           nan       (16, 3, 640, 640)                    list\n",
            "\u001b[34m\u001b[1mAutoBatch: \u001b[0mUsing batch-size 22 for CUDA:0 8.90G/14.74G (60%) ✅\n"
          ]
        },
        {
          "output_type": "stream",
          "name": "stderr",
          "text": [
            "\u001b[34m\u001b[1mtrain: \u001b[0mScanning /content/datasets/carparts-seg/train/labels.cache... 3156 images, 116 backgrounds, 0 corrupt: 100%|██████████| 3156/3156 [00:00<?, ?it/s]"
          ]
        },
        {
          "output_type": "stream",
          "name": "stdout",
          "text": [
            "\u001b[34m\u001b[1malbumentations: \u001b[0mBlur(p=0.01, blur_limit=(3, 7)), MedianBlur(p=0.01, blur_limit=(3, 7)), ToGray(p=0.01, num_output_channels=3, method='weighted_average'), CLAHE(p=0.01, clip_limit=(1.0, 4.0), tile_grid_size=(8, 8))\n"
          ]
        },
        {
          "output_type": "stream",
          "name": "stderr",
          "text": [
            "\n",
            "\u001b[34m\u001b[1mval: \u001b[0mScanning /content/datasets/carparts-seg/valid/labels... 401 images, 12 backgrounds, 0 corrupt: 100%|██████████| 401/401 [00:00<00:00, 854.76it/s]"
          ]
        },
        {
          "output_type": "stream",
          "name": "stdout",
          "text": [
            "\u001b[34m\u001b[1mval: \u001b[0mNew cache created: /content/datasets/carparts-seg/valid/labels.cache\n"
          ]
        },
        {
          "output_type": "stream",
          "name": "stderr",
          "text": [
            "\n"
          ]
        },
        {
          "output_type": "stream",
          "name": "stdout",
          "text": [
            "Plotting labels to runs/segment/train/labels.jpg... \n",
            "\u001b[34m\u001b[1moptimizer:\u001b[0m 'optimizer=auto' found, ignoring 'lr0=0.01' and 'momentum=0.937' and determining best 'optimizer', 'lr0' and 'momentum' automatically... \n",
            "\u001b[34m\u001b[1moptimizer:\u001b[0m AdamW(lr=0.00037, momentum=0.9) with parameter groups 90 weight(decay=0.0), 101 weight(decay=0.000515625), 100 bias(decay=0.0)\n",
            "\u001b[34m\u001b[1mTensorBoard: \u001b[0mmodel graph visualization added ✅\n",
            "Image sizes 640 train, 640 val\n",
            "Using 2 dataloader workers\n",
            "Logging results to \u001b[1mruns/segment/train\u001b[0m\n",
            "Starting training for 100 epochs...\n",
            "\n",
            "      Epoch    GPU_mem   box_loss   seg_loss   cls_loss   dfl_loss  Instances       Size\n"
          ]
        },
        {
          "output_type": "stream",
          "name": "stderr",
          "text": [
            "      1/100      4.36G      1.286      2.689       4.03      1.394        106        640: 100%|██████████| 144/144 [01:26<00:00,  1.66it/s]\n",
            "                 Class     Images  Instances      Box(P          R      mAP50  mAP50-95)     Mask(P          R      mAP50  mAP50-95): 100%|██████████| 10/10 [00:05<00:00,  1.72it/s]"
          ]
        },
        {
          "output_type": "stream",
          "name": "stdout",
          "text": [
            "                   all        401       2042      0.754      0.124      0.148       0.11      0.753      0.124      0.149      0.106\n"
          ]
        },
        {
          "output_type": "stream",
          "name": "stderr",
          "text": [
            "\n"
          ]
        },
        {
          "output_type": "stream",
          "name": "stdout",
          "text": [
            "\n",
            "      Epoch    GPU_mem   box_loss   seg_loss   cls_loss   dfl_loss  Instances       Size\n"
          ]
        },
        {
          "output_type": "stream",
          "name": "stderr",
          "text": [
            "      2/100       5.2G       1.11      1.988      2.679      1.221         82        640: 100%|██████████| 144/144 [01:20<00:00,  1.78it/s]\n",
            "                 Class     Images  Instances      Box(P          R      mAP50  mAP50-95)     Mask(P          R      mAP50  mAP50-95): 100%|██████████| 10/10 [00:06<00:00,  1.46it/s]\n"
          ]
        },
        {
          "output_type": "stream",
          "name": "stdout",
          "text": [
            "                   all        401       2042      0.461      0.429       0.33      0.243      0.461       0.43       0.33      0.226\n",
            "\n",
            "      Epoch    GPU_mem   box_loss   seg_loss   cls_loss   dfl_loss  Instances       Size\n"
          ]
        },
        {
          "output_type": "stream",
          "name": "stderr",
          "text": [
            "      3/100      5.23G      1.018      1.792       1.82      1.155         98        640: 100%|██████████| 144/144 [01:20<00:00,  1.79it/s]\n",
            "                 Class     Images  Instances      Box(P          R      mAP50  mAP50-95)     Mask(P          R      mAP50  mAP50-95): 100%|██████████| 10/10 [00:06<00:00,  1.65it/s]\n"
          ]
        },
        {
          "output_type": "stream",
          "name": "stdout",
          "text": [
            "                   all        401       2042      0.535      0.538      0.463      0.339      0.539      0.541      0.464      0.316\n",
            "\n",
            "      Epoch    GPU_mem   box_loss   seg_loss   cls_loss   dfl_loss  Instances       Size\n"
          ]
        },
        {
          "output_type": "stream",
          "name": "stderr",
          "text": [
            "      4/100      5.24G     0.9715      1.691      1.553      1.123         74        640: 100%|██████████| 144/144 [01:20<00:00,  1.79it/s]\n",
            "                 Class     Images  Instances      Box(P          R      mAP50  mAP50-95)     Mask(P          R      mAP50  mAP50-95): 100%|██████████| 10/10 [00:05<00:00,  1.73it/s]\n"
          ]
        },
        {
          "output_type": "stream",
          "name": "stdout",
          "text": [
            "                   all        401       2042      0.464      0.588      0.496       0.38      0.468      0.583      0.496      0.339\n",
            "\n",
            "      Epoch    GPU_mem   box_loss   seg_loss   cls_loss   dfl_loss  Instances       Size\n"
          ]
        },
        {
          "output_type": "stream",
          "name": "stderr",
          "text": [
            "      5/100      5.26G     0.9219      1.619      1.399      1.094         97        640: 100%|██████████| 144/144 [01:20<00:00,  1.79it/s]\n",
            "                 Class     Images  Instances      Box(P          R      mAP50  mAP50-95)     Mask(P          R      mAP50  mAP50-95): 100%|██████████| 10/10 [00:06<00:00,  1.61it/s]\n"
          ]
        },
        {
          "output_type": "stream",
          "name": "stdout",
          "text": [
            "                   all        401       2042      0.475      0.568      0.437      0.337      0.476      0.564      0.442      0.319\n",
            "\n",
            "      Epoch    GPU_mem   box_loss   seg_loss   cls_loss   dfl_loss  Instances       Size\n"
          ]
        },
        {
          "output_type": "stream",
          "name": "stderr",
          "text": [
            "      6/100      5.27G     0.8882      1.546      1.287      1.069         88        640: 100%|██████████| 144/144 [01:20<00:00,  1.79it/s]\n",
            "                 Class     Images  Instances      Box(P          R      mAP50  mAP50-95)     Mask(P          R      mAP50  mAP50-95): 100%|██████████| 10/10 [00:06<00:00,  1.51it/s]\n"
          ]
        },
        {
          "output_type": "stream",
          "name": "stdout",
          "text": [
            "                   all        401       2042      0.452      0.683      0.547      0.424      0.452      0.681      0.553      0.404\n",
            "\n",
            "      Epoch    GPU_mem   box_loss   seg_loss   cls_loss   dfl_loss  Instances       Size\n"
          ]
        },
        {
          "output_type": "stream",
          "name": "stderr",
          "text": [
            "      7/100      5.29G     0.8753      1.524       1.23      1.069         73        640: 100%|██████████| 144/144 [01:19<00:00,  1.80it/s]\n",
            "                 Class     Images  Instances      Box(P          R      mAP50  mAP50-95)     Mask(P          R      mAP50  mAP50-95): 100%|██████████| 10/10 [00:06<00:00,  1.64it/s]\n"
          ]
        },
        {
          "output_type": "stream",
          "name": "stdout",
          "text": [
            "                   all        401       2042      0.468      0.714      0.557      0.434      0.468        0.7      0.563      0.412\n",
            "\n",
            "      Epoch    GPU_mem   box_loss   seg_loss   cls_loss   dfl_loss  Instances       Size\n"
          ]
        },
        {
          "output_type": "stream",
          "name": "stderr",
          "text": [
            "      8/100       5.3G     0.8533      1.481       1.17      1.049         81        640: 100%|██████████| 144/144 [01:20<00:00,  1.79it/s]\n",
            "                 Class     Images  Instances      Box(P          R      mAP50  mAP50-95)     Mask(P          R      mAP50  mAP50-95): 100%|██████████| 10/10 [00:05<00:00,  1.79it/s]\n"
          ]
        },
        {
          "output_type": "stream",
          "name": "stdout",
          "text": [
            "                   all        401       2042      0.426      0.657      0.478      0.378       0.43      0.661      0.486      0.359\n",
            "\n",
            "      Epoch    GPU_mem   box_loss   seg_loss   cls_loss   dfl_loss  Instances       Size\n"
          ]
        },
        {
          "output_type": "stream",
          "name": "stderr",
          "text": [
            "      9/100      5.32G     0.8422      1.436      1.116      1.044         91        640: 100%|██████████| 144/144 [01:21<00:00,  1.76it/s]\n",
            "                 Class     Images  Instances      Box(P          R      mAP50  mAP50-95)     Mask(P          R      mAP50  mAP50-95): 100%|██████████| 10/10 [00:05<00:00,  1.69it/s]\n"
          ]
        },
        {
          "output_type": "stream",
          "name": "stdout",
          "text": [
            "                   all        401       2042      0.544      0.733      0.605      0.473       0.54       0.73      0.605      0.459\n",
            "\n",
            "      Epoch    GPU_mem   box_loss   seg_loss   cls_loss   dfl_loss  Instances       Size\n"
          ]
        },
        {
          "output_type": "stream",
          "name": "stderr",
          "text": [
            "     10/100      5.33G     0.8219      1.398      1.067      1.035         79        640: 100%|██████████| 144/144 [01:20<00:00,  1.78it/s]\n",
            "                 Class     Images  Instances      Box(P          R      mAP50  mAP50-95)     Mask(P          R      mAP50  mAP50-95): 100%|██████████| 10/10 [00:06<00:00,  1.50it/s]\n"
          ]
        },
        {
          "output_type": "stream",
          "name": "stdout",
          "text": [
            "                   all        401       2042      0.505      0.737      0.597      0.478      0.507      0.735      0.606       0.46\n",
            "\n",
            "      Epoch    GPU_mem   box_loss   seg_loss   cls_loss   dfl_loss  Instances       Size\n"
          ]
        },
        {
          "output_type": "stream",
          "name": "stderr",
          "text": [
            "     11/100      5.35G     0.8072      1.377      1.037      1.028         82        640: 100%|██████████| 144/144 [01:21<00:00,  1.77it/s]\n",
            "                 Class     Images  Instances      Box(P          R      mAP50  mAP50-95)     Mask(P          R      mAP50  mAP50-95): 100%|██████████| 10/10 [00:06<00:00,  1.54it/s]\n"
          ]
        },
        {
          "output_type": "stream",
          "name": "stdout",
          "text": [
            "                   all        401       2042      0.536      0.763      0.609      0.494      0.539      0.767      0.618      0.472\n",
            "\u001b[34m\u001b[1mUltralytics HUB: \u001b[0mUploading checkpoint https://hub.ultralytics.com/models/GxOBxL0Bx03wa9rublhs\n",
            "\n",
            "      Epoch    GPU_mem   box_loss   seg_loss   cls_loss   dfl_loss  Instances       Size\n"
          ]
        },
        {
          "output_type": "stream",
          "name": "stderr",
          "text": [
            "     12/100      5.37G      0.803      1.372      1.016      1.022        117        640: 100%|██████████| 144/144 [01:21<00:00,  1.76it/s]\n",
            "                 Class     Images  Instances      Box(P          R      mAP50  mAP50-95)     Mask(P          R      mAP50  mAP50-95): 100%|██████████| 10/10 [00:06<00:00,  1.54it/s]\n"
          ]
        },
        {
          "output_type": "stream",
          "name": "stdout",
          "text": [
            "                   all        401       2042      0.514      0.769      0.602      0.486      0.516      0.772      0.605      0.465\n",
            "\n",
            "      Epoch    GPU_mem   box_loss   seg_loss   cls_loss   dfl_loss  Instances       Size\n"
          ]
        },
        {
          "output_type": "stream",
          "name": "stderr",
          "text": [
            "     13/100      5.38G     0.7841      1.338     0.9735      1.018         72        640: 100%|██████████| 144/144 [01:19<00:00,  1.81it/s]\n",
            "                 Class     Images  Instances      Box(P          R      mAP50  mAP50-95)     Mask(P          R      mAP50  mAP50-95): 100%|██████████| 10/10 [00:05<00:00,  1.80it/s]\n"
          ]
        },
        {
          "output_type": "stream",
          "name": "stdout",
          "text": [
            "                   all        401       2042       0.55      0.821      0.677      0.543      0.552      0.823      0.682      0.518\n",
            "\n",
            "      Epoch    GPU_mem   box_loss   seg_loss   cls_loss   dfl_loss  Instances       Size\n"
          ]
        },
        {
          "output_type": "stream",
          "name": "stderr",
          "text": [
            "     14/100       5.4G     0.7786      1.317      0.953      1.013         82        640: 100%|██████████| 144/144 [01:20<00:00,  1.79it/s]\n",
            "                 Class     Images  Instances      Box(P          R      mAP50  mAP50-95)     Mask(P          R      mAP50  mAP50-95): 100%|██████████| 10/10 [00:06<00:00,  1.58it/s]\n"
          ]
        },
        {
          "output_type": "stream",
          "name": "stdout",
          "text": [
            "                   all        401       2042      0.558      0.825      0.657      0.537      0.566      0.823      0.674       0.52\n",
            "\n",
            "      Epoch    GPU_mem   box_loss   seg_loss   cls_loss   dfl_loss  Instances       Size\n"
          ]
        },
        {
          "output_type": "stream",
          "name": "stderr",
          "text": [
            "     15/100      5.41G     0.7761      1.318     0.9354      1.015        132        640: 100%|██████████| 144/144 [01:20<00:00,  1.79it/s]\n",
            "                 Class     Images  Instances      Box(P          R      mAP50  mAP50-95)     Mask(P          R      mAP50  mAP50-95): 100%|██████████| 10/10 [00:06<00:00,  1.56it/s]\n"
          ]
        },
        {
          "output_type": "stream",
          "name": "stdout",
          "text": [
            "                   all        401       2042      0.567      0.816      0.676       0.55      0.567      0.826      0.684       0.53\n",
            "\n",
            "      Epoch    GPU_mem   box_loss   seg_loss   cls_loss   dfl_loss  Instances       Size\n"
          ]
        },
        {
          "output_type": "stream",
          "name": "stderr",
          "text": [
            "     16/100      5.43G     0.7674      1.295     0.9091      1.005         60        640: 100%|██████████| 144/144 [01:20<00:00,  1.78it/s]\n",
            "                 Class     Images  Instances      Box(P          R      mAP50  mAP50-95)     Mask(P          R      mAP50  mAP50-95): 100%|██████████| 10/10 [00:06<00:00,  1.64it/s]\n"
          ]
        },
        {
          "output_type": "stream",
          "name": "stdout",
          "text": [
            "                   all        401       2042      0.605      0.773      0.688      0.557      0.598      0.804      0.692       0.53\n",
            "\n",
            "      Epoch    GPU_mem   box_loss   seg_loss   cls_loss   dfl_loss  Instances       Size\n"
          ]
        },
        {
          "output_type": "stream",
          "name": "stderr",
          "text": [
            "     17/100      5.44G     0.7577      1.283      0.895      1.002         84        640: 100%|██████████| 144/144 [01:20<00:00,  1.79it/s]\n",
            "                 Class     Images  Instances      Box(P          R      mAP50  mAP50-95)     Mask(P          R      mAP50  mAP50-95): 100%|██████████| 10/10 [00:05<00:00,  1.83it/s]\n"
          ]
        },
        {
          "output_type": "stream",
          "name": "stdout",
          "text": [
            "                   all        401       2042      0.557      0.768      0.648      0.528      0.558      0.775      0.657      0.511\n",
            "\n",
            "      Epoch    GPU_mem   box_loss   seg_loss   cls_loss   dfl_loss  Instances       Size\n"
          ]
        },
        {
          "output_type": "stream",
          "name": "stderr",
          "text": [
            "     18/100      5.46G     0.7575      1.266     0.8833      1.001        136        640: 100%|██████████| 144/144 [01:20<00:00,  1.79it/s]\n",
            "                 Class     Images  Instances      Box(P          R      mAP50  mAP50-95)     Mask(P          R      mAP50  mAP50-95): 100%|██████████| 10/10 [00:06<00:00,  1.56it/s]\n"
          ]
        },
        {
          "output_type": "stream",
          "name": "stdout",
          "text": [
            "                   all        401       2042      0.531      0.748       0.61      0.498      0.533      0.765      0.618      0.478\n",
            "\n",
            "      Epoch    GPU_mem   box_loss   seg_loss   cls_loss   dfl_loss  Instances       Size\n"
          ]
        },
        {
          "output_type": "stream",
          "name": "stderr",
          "text": [
            "     19/100      5.48G     0.7421      1.249     0.8605     0.9964         79        640: 100%|██████████| 144/144 [01:20<00:00,  1.80it/s]\n",
            "                 Class     Images  Instances      Box(P          R      mAP50  mAP50-95)     Mask(P          R      mAP50  mAP50-95): 100%|██████████| 10/10 [00:06<00:00,  1.51it/s]\n"
          ]
        },
        {
          "output_type": "stream",
          "name": "stdout",
          "text": [
            "                   all        401       2042      0.574      0.757      0.654      0.537      0.576       0.76      0.657      0.517\n",
            "\n",
            "      Epoch    GPU_mem   box_loss   seg_loss   cls_loss   dfl_loss  Instances       Size\n"
          ]
        },
        {
          "output_type": "stream",
          "name": "stderr",
          "text": [
            "     20/100      5.49G     0.7385      1.232     0.8634     0.9901         84        640: 100%|██████████| 144/144 [01:21<00:00,  1.77it/s]\n",
            "                 Class     Images  Instances      Box(P          R      mAP50  mAP50-95)     Mask(P          R      mAP50  mAP50-95): 100%|██████████| 10/10 [00:06<00:00,  1.65it/s]\n"
          ]
        },
        {
          "output_type": "stream",
          "name": "stdout",
          "text": [
            "                   all        401       2042      0.562      0.784      0.632      0.519      0.568      0.793      0.638      0.502\n",
            "\n",
            "      Epoch    GPU_mem   box_loss   seg_loss   cls_loss   dfl_loss  Instances       Size\n"
          ]
        },
        {
          "output_type": "stream",
          "name": "stderr",
          "text": [
            "     21/100      5.51G     0.7411      1.245      0.846     0.9958         60        640: 100%|██████████| 144/144 [01:20<00:00,  1.79it/s]\n",
            "                 Class     Images  Instances      Box(P          R      mAP50  mAP50-95)     Mask(P          R      mAP50  mAP50-95): 100%|██████████| 10/10 [00:05<00:00,  1.77it/s]"
          ]
        },
        {
          "output_type": "stream",
          "name": "stdout",
          "text": [
            "                   all        401       2042      0.622      0.786      0.683      0.564      0.635      0.802      0.699      0.547\n"
          ]
        },
        {
          "output_type": "stream",
          "name": "stderr",
          "text": [
            "\n"
          ]
        },
        {
          "output_type": "stream",
          "name": "stdout",
          "text": [
            "\n",
            "      Epoch    GPU_mem   box_loss   seg_loss   cls_loss   dfl_loss  Instances       Size\n"
          ]
        },
        {
          "output_type": "stream",
          "name": "stderr",
          "text": [
            "     22/100      5.52G      0.736      1.231     0.8266     0.9919        108        640: 100%|██████████| 144/144 [01:20<00:00,  1.79it/s]\n",
            "                 Class     Images  Instances      Box(P          R      mAP50  mAP50-95)     Mask(P          R      mAP50  mAP50-95): 100%|██████████| 10/10 [00:06<00:00,  1.54it/s]\n"
          ]
        },
        {
          "output_type": "stream",
          "name": "stdout",
          "text": [
            "                   all        401       2042      0.564      0.774      0.635      0.523      0.572      0.787      0.646      0.507\n",
            "\u001b[34m\u001b[1mUltralytics HUB: \u001b[0mUploading checkpoint https://hub.ultralytics.com/models/GxOBxL0Bx03wa9rublhs\n",
            "\n",
            "      Epoch    GPU_mem   box_loss   seg_loss   cls_loss   dfl_loss  Instances       Size\n"
          ]
        },
        {
          "output_type": "stream",
          "name": "stderr",
          "text": [
            "     23/100      5.54G     0.7306      1.226      0.805     0.9866         89        640: 100%|██████████| 144/144 [01:21<00:00,  1.77it/s]\n",
            "                 Class     Images  Instances      Box(P          R      mAP50  mAP50-95)     Mask(P          R      mAP50  mAP50-95): 100%|██████████| 10/10 [00:06<00:00,  1.43it/s]\n"
          ]
        },
        {
          "output_type": "stream",
          "name": "stdout",
          "text": [
            "                   all        401       2042      0.469       0.75      0.543      0.451      0.473      0.764      0.551      0.439\n",
            "\n",
            "      Epoch    GPU_mem   box_loss   seg_loss   cls_loss   dfl_loss  Instances       Size\n"
          ]
        },
        {
          "output_type": "stream",
          "name": "stderr",
          "text": [
            "     24/100      5.56G     0.7257      1.206     0.8044      0.986         95        640: 100%|██████████| 144/144 [01:22<00:00,  1.76it/s]\n",
            "                 Class     Images  Instances      Box(P          R      mAP50  mAP50-95)     Mask(P          R      mAP50  mAP50-95): 100%|██████████| 10/10 [00:06<00:00,  1.58it/s]\n"
          ]
        },
        {
          "output_type": "stream",
          "name": "stdout",
          "text": [
            "                   all        401       2042      0.561       0.78      0.656      0.542      0.569      0.787      0.667      0.529\n",
            "\n",
            "      Epoch    GPU_mem   box_loss   seg_loss   cls_loss   dfl_loss  Instances       Size\n"
          ]
        },
        {
          "output_type": "stream",
          "name": "stderr",
          "text": [
            "     25/100      5.57G     0.7163      1.207     0.7965     0.9803        111        640: 100%|██████████| 144/144 [01:20<00:00,  1.78it/s]\n",
            "                 Class     Images  Instances      Box(P          R      mAP50  mAP50-95)     Mask(P          R      mAP50  mAP50-95): 100%|██████████| 10/10 [00:06<00:00,  1.64it/s]\n"
          ]
        },
        {
          "output_type": "stream",
          "name": "stdout",
          "text": [
            "                   all        401       2042       0.58      0.805      0.666      0.548      0.593      0.816      0.679      0.537\n",
            "\n",
            "      Epoch    GPU_mem   box_loss   seg_loss   cls_loss   dfl_loss  Instances       Size\n"
          ]
        },
        {
          "output_type": "stream",
          "name": "stderr",
          "text": [
            "     26/100      5.59G     0.7155      1.194     0.7871     0.9816         87        640: 100%|██████████| 144/144 [01:22<00:00,  1.75it/s]\n",
            "                 Class     Images  Instances      Box(P          R      mAP50  mAP50-95)     Mask(P          R      mAP50  mAP50-95): 100%|██████████| 10/10 [00:05<00:00,  1.83it/s]\n"
          ]
        },
        {
          "output_type": "stream",
          "name": "stdout",
          "text": [
            "                   all        401       2042      0.574      0.802      0.655      0.548      0.583      0.815      0.666      0.532\n",
            "\n",
            "      Epoch    GPU_mem   box_loss   seg_loss   cls_loss   dfl_loss  Instances       Size\n"
          ]
        },
        {
          "output_type": "stream",
          "name": "stderr",
          "text": [
            "     27/100      5.61G     0.7117      1.183     0.7822     0.9808         64        640: 100%|██████████| 144/144 [01:21<00:00,  1.76it/s]\n",
            "                 Class     Images  Instances      Box(P          R      mAP50  mAP50-95)     Mask(P          R      mAP50  mAP50-95): 100%|██████████| 10/10 [00:05<00:00,  1.78it/s]"
          ]
        },
        {
          "output_type": "stream",
          "name": "stdout",
          "text": [
            "                   all        401       2042      0.577      0.822      0.683      0.568      0.584      0.825        0.7      0.552\n"
          ]
        },
        {
          "output_type": "stream",
          "name": "stderr",
          "text": [
            "\n"
          ]
        },
        {
          "output_type": "stream",
          "name": "stdout",
          "text": [
            "\n",
            "      Epoch    GPU_mem   box_loss   seg_loss   cls_loss   dfl_loss  Instances       Size\n"
          ]
        },
        {
          "output_type": "stream",
          "name": "stderr",
          "text": [
            "     28/100      5.62G     0.7053      1.173     0.7694     0.9755        101        640: 100%|██████████| 144/144 [01:19<00:00,  1.80it/s]\n",
            "                 Class     Images  Instances      Box(P          R      mAP50  mAP50-95)     Mask(P          R      mAP50  mAP50-95): 100%|██████████| 10/10 [00:06<00:00,  1.55it/s]\n"
          ]
        },
        {
          "output_type": "stream",
          "name": "stdout",
          "text": [
            "                   all        401       2042      0.565      0.761      0.642      0.536      0.564      0.803      0.647      0.521\n",
            "\n",
            "      Epoch    GPU_mem   box_loss   seg_loss   cls_loss   dfl_loss  Instances       Size\n"
          ]
        },
        {
          "output_type": "stream",
          "name": "stderr",
          "text": [
            "     29/100      5.64G     0.7011      1.154     0.7565     0.9744         82        640: 100%|██████████| 144/144 [01:21<00:00,  1.76it/s]\n",
            "                 Class     Images  Instances      Box(P          R      mAP50  mAP50-95)     Mask(P          R      mAP50  mAP50-95): 100%|██████████| 10/10 [00:06<00:00,  1.54it/s]\n"
          ]
        },
        {
          "output_type": "stream",
          "name": "stdout",
          "text": [
            "                   all        401       2042      0.483      0.706      0.537      0.447      0.486      0.712      0.543      0.434\n",
            "\n",
            "      Epoch    GPU_mem   box_loss   seg_loss   cls_loss   dfl_loss  Instances       Size\n"
          ]
        },
        {
          "output_type": "stream",
          "name": "stderr",
          "text": [
            "     30/100      5.65G     0.6964      1.156     0.7534     0.9747        104        640: 100%|██████████| 144/144 [01:21<00:00,  1.77it/s]\n",
            "                 Class     Images  Instances      Box(P          R      mAP50  mAP50-95)     Mask(P          R      mAP50  mAP50-95): 100%|██████████| 10/10 [00:05<00:00,  1.83it/s]"
          ]
        },
        {
          "output_type": "stream",
          "name": "stdout",
          "text": [
            "                   all        401       2042      0.625      0.778      0.695      0.579      0.639      0.775       0.71      0.559\n"
          ]
        },
        {
          "output_type": "stream",
          "name": "stderr",
          "text": [
            "\n"
          ]
        },
        {
          "output_type": "stream",
          "name": "stdout",
          "text": [
            "\n",
            "      Epoch    GPU_mem   box_loss   seg_loss   cls_loss   dfl_loss  Instances       Size\n"
          ]
        },
        {
          "output_type": "stream",
          "name": "stderr",
          "text": [
            "     31/100      5.67G     0.6922       1.16     0.7363     0.9721         87        640: 100%|██████████| 144/144 [01:21<00:00,  1.77it/s]\n",
            "                 Class     Images  Instances      Box(P          R      mAP50  mAP50-95)     Mask(P          R      mAP50  mAP50-95): 100%|██████████| 10/10 [00:05<00:00,  1.73it/s]\n"
          ]
        },
        {
          "output_type": "stream",
          "name": "stdout",
          "text": [
            "                   all        401       2042      0.466      0.734      0.507      0.426      0.469      0.736      0.515      0.418\n",
            "\n",
            "      Epoch    GPU_mem   box_loss   seg_loss   cls_loss   dfl_loss  Instances       Size\n"
          ]
        },
        {
          "output_type": "stream",
          "name": "stderr",
          "text": [
            "     32/100      5.69G     0.6926      1.144      0.729     0.9696         75        640: 100%|██████████| 144/144 [01:21<00:00,  1.78it/s]\n",
            "                 Class     Images  Instances      Box(P          R      mAP50  mAP50-95)     Mask(P          R      mAP50  mAP50-95): 100%|██████████| 10/10 [00:06<00:00,  1.54it/s]\n"
          ]
        },
        {
          "output_type": "stream",
          "name": "stdout",
          "text": [
            "                   all        401       2042      0.556      0.781      0.632       0.53      0.566      0.795      0.648      0.517\n",
            "\n",
            "      Epoch    GPU_mem   box_loss   seg_loss   cls_loss   dfl_loss  Instances       Size\n"
          ]
        },
        {
          "output_type": "stream",
          "name": "stderr",
          "text": [
            "     33/100      5.71G     0.6827      1.125     0.7262     0.9648         86        640: 100%|██████████| 144/144 [01:21<00:00,  1.77it/s]\n",
            "                 Class     Images  Instances      Box(P          R      mAP50  mAP50-95)     Mask(P          R      mAP50  mAP50-95): 100%|██████████| 10/10 [00:06<00:00,  1.53it/s]"
          ]
        },
        {
          "output_type": "stream",
          "name": "stdout",
          "text": [
            "                   all        401       2042      0.583      0.786      0.667      0.565      0.595      0.803      0.681      0.549\n"
          ]
        },
        {
          "output_type": "stream",
          "name": "stderr",
          "text": [
            "\n"
          ]
        },
        {
          "output_type": "stream",
          "name": "stdout",
          "text": [
            "\u001b[34m\u001b[1mUltralytics HUB: \u001b[0mUploading checkpoint https://hub.ultralytics.com/models/GxOBxL0Bx03wa9rublhs\n",
            "\n",
            "      Epoch    GPU_mem   box_loss   seg_loss   cls_loss   dfl_loss  Instances       Size\n"
          ]
        },
        {
          "output_type": "stream",
          "name": "stderr",
          "text": [
            "     34/100      5.72G     0.6804       1.13     0.7173     0.9671         75        640: 100%|██████████| 144/144 [01:22<00:00,  1.75it/s]\n",
            "                 Class     Images  Instances      Box(P          R      mAP50  mAP50-95)     Mask(P          R      mAP50  mAP50-95): 100%|██████████| 10/10 [00:06<00:00,  1.56it/s]\n"
          ]
        },
        {
          "output_type": "stream",
          "name": "stdout",
          "text": [
            "                   all        401       2042      0.518      0.745      0.568      0.481      0.523      0.754      0.584      0.463\n",
            "\n",
            "      Epoch    GPU_mem   box_loss   seg_loss   cls_loss   dfl_loss  Instances       Size\n"
          ]
        },
        {
          "output_type": "stream",
          "name": "stderr",
          "text": [
            "     35/100      5.73G     0.6836      1.133     0.7249     0.9683        103        640: 100%|██████████| 144/144 [01:21<00:00,  1.77it/s]\n",
            "                 Class     Images  Instances      Box(P          R      mAP50  mAP50-95)     Mask(P          R      mAP50  mAP50-95): 100%|██████████| 10/10 [00:05<00:00,  1.77it/s]"
          ]
        },
        {
          "output_type": "stream",
          "name": "stdout",
          "text": [
            "                   all        401       2042      0.571      0.792      0.653      0.549      0.579      0.808      0.665       0.53\n"
          ]
        },
        {
          "output_type": "stream",
          "name": "stderr",
          "text": [
            "\n"
          ]
        },
        {
          "output_type": "stream",
          "name": "stdout",
          "text": [
            "\n",
            "      Epoch    GPU_mem   box_loss   seg_loss   cls_loss   dfl_loss  Instances       Size\n"
          ]
        },
        {
          "output_type": "stream",
          "name": "stderr",
          "text": [
            "     36/100      5.75G     0.6804      1.123     0.7154      0.969         79        640: 100%|██████████| 144/144 [01:22<00:00,  1.74it/s]\n",
            "                 Class     Images  Instances      Box(P          R      mAP50  mAP50-95)     Mask(P          R      mAP50  mAP50-95): 100%|██████████| 10/10 [00:05<00:00,  1.80it/s]"
          ]
        },
        {
          "output_type": "stream",
          "name": "stdout",
          "text": [
            "                   all        401       2042      0.595      0.831      0.686      0.581      0.607      0.847      0.701      0.563\n"
          ]
        },
        {
          "output_type": "stream",
          "name": "stderr",
          "text": [
            "\n"
          ]
        },
        {
          "output_type": "stream",
          "name": "stdout",
          "text": [
            "\n",
            "      Epoch    GPU_mem   box_loss   seg_loss   cls_loss   dfl_loss  Instances       Size\n"
          ]
        },
        {
          "output_type": "stream",
          "name": "stderr",
          "text": [
            "     37/100      5.77G     0.6747      1.108     0.7026     0.9593         90        640: 100%|██████████| 144/144 [01:23<00:00,  1.73it/s]\n",
            "                 Class     Images  Instances      Box(P          R      mAP50  mAP50-95)     Mask(P          R      mAP50  mAP50-95): 100%|██████████| 10/10 [00:05<00:00,  1.73it/s]"
          ]
        },
        {
          "output_type": "stream",
          "name": "stdout",
          "text": [
            "                   all        401       2042      0.528      0.741      0.602      0.512      0.535      0.755      0.609      0.494\n"
          ]
        },
        {
          "output_type": "stream",
          "name": "stderr",
          "text": [
            "\n"
          ]
        },
        {
          "output_type": "stream",
          "name": "stdout",
          "text": [
            "\n",
            "      Epoch    GPU_mem   box_loss   seg_loss   cls_loss   dfl_loss  Instances       Size\n"
          ]
        },
        {
          "output_type": "stream",
          "name": "stderr",
          "text": [
            "     38/100      5.78G      0.675      1.109     0.7038      0.966         77        640: 100%|██████████| 144/144 [01:21<00:00,  1.77it/s]\n",
            "                 Class     Images  Instances      Box(P          R      mAP50  mAP50-95)     Mask(P          R      mAP50  mAP50-95): 100%|██████████| 10/10 [00:06<00:00,  1.50it/s]"
          ]
        },
        {
          "output_type": "stream",
          "name": "stdout",
          "text": [
            "                   all        401       2042      0.592      0.848      0.682       0.58      0.603      0.858      0.697      0.565\n"
          ]
        },
        {
          "output_type": "stream",
          "name": "stderr",
          "text": [
            "\n"
          ]
        },
        {
          "output_type": "stream",
          "name": "stdout",
          "text": [
            "\n",
            "      Epoch    GPU_mem   box_loss   seg_loss   cls_loss   dfl_loss  Instances       Size\n"
          ]
        },
        {
          "output_type": "stream",
          "name": "stderr",
          "text": [
            "     39/100       5.8G     0.6775      1.114     0.6873     0.9633         95        640: 100%|██████████| 144/144 [01:21<00:00,  1.77it/s]\n",
            "                 Class     Images  Instances      Box(P          R      mAP50  mAP50-95)     Mask(P          R      mAP50  mAP50-95): 100%|██████████| 10/10 [00:06<00:00,  1.64it/s]\n"
          ]
        },
        {
          "output_type": "stream",
          "name": "stdout",
          "text": [
            "                   all        401       2042      0.551      0.805       0.63      0.535      0.563      0.807      0.641      0.523\n",
            "\n",
            "      Epoch    GPU_mem   box_loss   seg_loss   cls_loss   dfl_loss  Instances       Size\n"
          ]
        },
        {
          "output_type": "stream",
          "name": "stderr",
          "text": [
            "     40/100      5.82G     0.6613      1.098     0.6935     0.9565         91        640: 100%|██████████| 144/144 [01:21<00:00,  1.76it/s]\n",
            "                 Class     Images  Instances      Box(P          R      mAP50  mAP50-95)     Mask(P          R      mAP50  mAP50-95): 100%|██████████| 10/10 [00:05<00:00,  1.89it/s]"
          ]
        },
        {
          "output_type": "stream",
          "name": "stdout",
          "text": [
            "                   all        401       2042       0.57      0.823      0.673      0.567      0.576      0.835      0.684      0.549\n"
          ]
        },
        {
          "output_type": "stream",
          "name": "stderr",
          "text": [
            "\n"
          ]
        },
        {
          "output_type": "stream",
          "name": "stdout",
          "text": [
            "\n",
            "      Epoch    GPU_mem   box_loss   seg_loss   cls_loss   dfl_loss  Instances       Size\n"
          ]
        },
        {
          "output_type": "stream",
          "name": "stderr",
          "text": [
            "     41/100      5.83G     0.6563       1.08     0.6809     0.9576         96        640: 100%|██████████| 144/144 [01:21<00:00,  1.76it/s]\n",
            "                 Class     Images  Instances      Box(P          R      mAP50  mAP50-95)     Mask(P          R      mAP50  mAP50-95): 100%|██████████| 10/10 [00:05<00:00,  1.83it/s]"
          ]
        },
        {
          "output_type": "stream",
          "name": "stdout",
          "text": [
            "                   all        401       2042      0.585      0.845      0.678      0.575      0.594      0.858      0.693      0.558\n"
          ]
        },
        {
          "output_type": "stream",
          "name": "stderr",
          "text": [
            "\n"
          ]
        },
        {
          "output_type": "stream",
          "name": "stdout",
          "text": [
            "\n",
            "      Epoch    GPU_mem   box_loss   seg_loss   cls_loss   dfl_loss  Instances       Size\n"
          ]
        },
        {
          "output_type": "stream",
          "name": "stderr",
          "text": [
            "     42/100      5.85G     0.6621      1.075     0.6727     0.9564        130        640: 100%|██████████| 144/144 [01:21<00:00,  1.77it/s]\n",
            "                 Class     Images  Instances      Box(P          R      mAP50  mAP50-95)     Mask(P          R      mAP50  mAP50-95): 100%|██████████| 10/10 [00:06<00:00,  1.52it/s]\n"
          ]
        },
        {
          "output_type": "stream",
          "name": "stdout",
          "text": [
            "                   all        401       2042      0.584      0.834      0.669      0.569      0.595      0.849      0.685       0.55\n",
            "\n",
            "      Epoch    GPU_mem   box_loss   seg_loss   cls_loss   dfl_loss  Instances       Size\n"
          ]
        },
        {
          "output_type": "stream",
          "name": "stderr",
          "text": [
            "     43/100      5.87G     0.6596       1.08     0.6743     0.9544         96        640: 100%|██████████| 144/144 [01:21<00:00,  1.77it/s]\n",
            "                 Class     Images  Instances      Box(P          R      mAP50  mAP50-95)     Mask(P          R      mAP50  mAP50-95): 100%|██████████| 10/10 [00:06<00:00,  1.54it/s]"
          ]
        },
        {
          "output_type": "stream",
          "name": "stdout",
          "text": [
            "                   all        401       2042      0.552      0.804      0.613      0.521      0.558      0.818      0.621      0.504\n"
          ]
        },
        {
          "output_type": "stream",
          "name": "stderr",
          "text": [
            "\n"
          ]
        },
        {
          "output_type": "stream",
          "name": "stdout",
          "text": [
            "\n",
            "      Epoch    GPU_mem   box_loss   seg_loss   cls_loss   dfl_loss  Instances       Size\n"
          ]
        },
        {
          "output_type": "stream",
          "name": "stderr",
          "text": [
            "     44/100      5.88G     0.6526      1.065     0.6676     0.9538         93        640: 100%|██████████| 144/144 [01:21<00:00,  1.78it/s]\n",
            "                 Class     Images  Instances      Box(P          R      mAP50  mAP50-95)     Mask(P          R      mAP50  mAP50-95): 100%|██████████| 10/10 [00:06<00:00,  1.65it/s]"
          ]
        },
        {
          "output_type": "stream",
          "name": "stdout",
          "text": [
            "                   all        401       2042      0.554      0.817      0.649      0.553      0.561      0.827      0.661      0.538\n"
          ]
        },
        {
          "output_type": "stream",
          "name": "stderr",
          "text": [
            "\n"
          ]
        },
        {
          "output_type": "stream",
          "name": "stdout",
          "text": [
            "\u001b[34m\u001b[1mUltralytics HUB: \u001b[0mUploading checkpoint https://hub.ultralytics.com/models/GxOBxL0Bx03wa9rublhs\n",
            "\n",
            "      Epoch    GPU_mem   box_loss   seg_loss   cls_loss   dfl_loss  Instances       Size\n"
          ]
        },
        {
          "output_type": "stream",
          "name": "stderr",
          "text": [
            "     45/100       5.9G     0.6554      1.074     0.6667      0.953        122        640: 100%|██████████| 144/144 [01:21<00:00,  1.76it/s]\n",
            "                 Class     Images  Instances      Box(P          R      mAP50  mAP50-95)     Mask(P          R      mAP50  mAP50-95): 100%|██████████| 10/10 [00:05<00:00,  1.82it/s]"
          ]
        },
        {
          "output_type": "stream",
          "name": "stdout",
          "text": [
            "                   all        401       2042      0.596      0.826      0.678      0.577      0.605       0.84      0.694      0.559\n"
          ]
        },
        {
          "output_type": "stream",
          "name": "stderr",
          "text": [
            "\n"
          ]
        },
        {
          "output_type": "stream",
          "name": "stdout",
          "text": [
            "\n",
            "      Epoch    GPU_mem   box_loss   seg_loss   cls_loss   dfl_loss  Instances       Size\n"
          ]
        },
        {
          "output_type": "stream",
          "name": "stderr",
          "text": [
            "     46/100      5.91G     0.6537      1.068     0.6702     0.9521        124        640: 100%|██████████| 144/144 [01:20<00:00,  1.78it/s]\n",
            "                 Class     Images  Instances      Box(P          R      mAP50  mAP50-95)     Mask(P          R      mAP50  mAP50-95): 100%|██████████| 10/10 [00:05<00:00,  1.82it/s]\n"
          ]
        },
        {
          "output_type": "stream",
          "name": "stdout",
          "text": [
            "                   all        401       2042      0.514      0.751      0.584        0.5      0.521      0.769      0.594      0.488\n",
            "\n",
            "      Epoch    GPU_mem   box_loss   seg_loss   cls_loss   dfl_loss  Instances       Size\n"
          ]
        },
        {
          "output_type": "stream",
          "name": "stderr",
          "text": [
            "     47/100      5.93G     0.6414      1.059      0.653     0.9514         77        640: 100%|██████████| 144/144 [01:19<00:00,  1.81it/s]\n",
            "                 Class     Images  Instances      Box(P          R      mAP50  mAP50-95)     Mask(P          R      mAP50  mAP50-95): 100%|██████████| 10/10 [00:06<00:00,  1.56it/s]"
          ]
        },
        {
          "output_type": "stream",
          "name": "stdout",
          "text": [
            "                   all        401       2042      0.566      0.803      0.664      0.569      0.575       0.82      0.673      0.554\n"
          ]
        },
        {
          "output_type": "stream",
          "name": "stderr",
          "text": [
            "\n"
          ]
        },
        {
          "output_type": "stream",
          "name": "stdout",
          "text": [
            "\n",
            "      Epoch    GPU_mem   box_loss   seg_loss   cls_loss   dfl_loss  Instances       Size\n"
          ]
        },
        {
          "output_type": "stream",
          "name": "stderr",
          "text": [
            "     48/100      5.95G     0.6427      1.062      0.643       0.95        102        640: 100%|██████████| 144/144 [01:19<00:00,  1.81it/s]\n",
            "                 Class     Images  Instances      Box(P          R      mAP50  mAP50-95)     Mask(P          R      mAP50  mAP50-95): 100%|██████████| 10/10 [00:05<00:00,  1.84it/s]\n"
          ]
        },
        {
          "output_type": "stream",
          "name": "stdout",
          "text": [
            "                   all        401       2042      0.539      0.792      0.596      0.506      0.552      0.797      0.607      0.494\n",
            "\n",
            "      Epoch    GPU_mem   box_loss   seg_loss   cls_loss   dfl_loss  Instances       Size\n"
          ]
        },
        {
          "output_type": "stream",
          "name": "stderr",
          "text": [
            "     49/100      5.96G     0.6415      1.044     0.6462     0.9496         87        640: 100%|██████████| 144/144 [01:19<00:00,  1.82it/s]\n",
            "                 Class     Images  Instances      Box(P          R      mAP50  mAP50-95)     Mask(P          R      mAP50  mAP50-95): 100%|██████████| 10/10 [00:05<00:00,  1.72it/s]"
          ]
        },
        {
          "output_type": "stream",
          "name": "stdout",
          "text": [
            "                   all        401       2042      0.565      0.805      0.639      0.549      0.576      0.817      0.657      0.535\n"
          ]
        },
        {
          "output_type": "stream",
          "name": "stderr",
          "text": [
            "\n"
          ]
        },
        {
          "output_type": "stream",
          "name": "stdout",
          "text": [
            "\n",
            "      Epoch    GPU_mem   box_loss   seg_loss   cls_loss   dfl_loss  Instances       Size\n"
          ]
        },
        {
          "output_type": "stream",
          "name": "stderr",
          "text": [
            "     50/100      5.98G     0.6341      1.041     0.6347     0.9475        140        640: 100%|██████████| 144/144 [01:18<00:00,  1.83it/s]\n",
            "                 Class     Images  Instances      Box(P          R      mAP50  mAP50-95)     Mask(P          R      mAP50  mAP50-95): 100%|██████████| 10/10 [00:06<00:00,  1.62it/s]"
          ]
        },
        {
          "output_type": "stream",
          "name": "stdout",
          "text": [
            "                   all        401       2042      0.505      0.788      0.561      0.484      0.511      0.801      0.567      0.471\n"
          ]
        },
        {
          "output_type": "stream",
          "name": "stderr",
          "text": [
            "\n"
          ]
        },
        {
          "output_type": "stream",
          "name": "stdout",
          "text": [
            "\n",
            "      Epoch    GPU_mem   box_loss   seg_loss   cls_loss   dfl_loss  Instances       Size\n"
          ]
        },
        {
          "output_type": "stream",
          "name": "stderr",
          "text": [
            "     51/100         6G     0.6378      1.043     0.6357     0.9451        116        640: 100%|██████████| 144/144 [01:20<00:00,  1.78it/s]\n",
            "                 Class     Images  Instances      Box(P          R      mAP50  mAP50-95)     Mask(P          R      mAP50  mAP50-95): 100%|██████████| 10/10 [00:05<00:00,  1.86it/s]"
          ]
        },
        {
          "output_type": "stream",
          "name": "stdout",
          "text": [
            "                   all        401       2042      0.549      0.794      0.625      0.527      0.556       0.81      0.639      0.519\n"
          ]
        },
        {
          "output_type": "stream",
          "name": "stderr",
          "text": [
            "\n"
          ]
        },
        {
          "output_type": "stream",
          "name": "stdout",
          "text": [
            "\n",
            "      Epoch    GPU_mem   box_loss   seg_loss   cls_loss   dfl_loss  Instances       Size\n"
          ]
        },
        {
          "output_type": "stream",
          "name": "stderr",
          "text": [
            "     52/100      6.01G     0.6364      1.045     0.6345     0.9451        103        640: 100%|██████████| 144/144 [01:22<00:00,  1.75it/s]\n",
            "                 Class     Images  Instances      Box(P          R      mAP50  mAP50-95)     Mask(P          R      mAP50  mAP50-95): 100%|██████████| 10/10 [00:05<00:00,  1.73it/s]"
          ]
        },
        {
          "output_type": "stream",
          "name": "stdout",
          "text": [
            "                   all        401       2042      0.566      0.821      0.632       0.54      0.576      0.838      0.654      0.525\n"
          ]
        },
        {
          "output_type": "stream",
          "name": "stderr",
          "text": [
            "\n"
          ]
        },
        {
          "output_type": "stream",
          "name": "stdout",
          "text": [
            "\n",
            "      Epoch    GPU_mem   box_loss   seg_loss   cls_loss   dfl_loss  Instances       Size\n"
          ]
        },
        {
          "output_type": "stream",
          "name": "stderr",
          "text": [
            "     53/100      6.03G      0.633      1.036     0.6316     0.9442        114        640: 100%|██████████| 144/144 [01:20<00:00,  1.78it/s]\n",
            "                 Class     Images  Instances      Box(P          R      mAP50  mAP50-95)     Mask(P          R      mAP50  mAP50-95): 100%|██████████| 10/10 [00:06<00:00,  1.55it/s]"
          ]
        },
        {
          "output_type": "stream",
          "name": "stdout",
          "text": [
            "                   all        401       2042      0.518      0.803      0.605      0.518      0.528        0.8      0.623      0.506\n"
          ]
        },
        {
          "output_type": "stream",
          "name": "stderr",
          "text": [
            "\n"
          ]
        },
        {
          "output_type": "stream",
          "name": "stdout",
          "text": [
            "\n",
            "      Epoch    GPU_mem   box_loss   seg_loss   cls_loss   dfl_loss  Instances       Size\n"
          ]
        },
        {
          "output_type": "stream",
          "name": "stderr",
          "text": [
            "     54/100      6.04G     0.6357       1.04     0.6237     0.9477        100        640: 100%|██████████| 144/144 [01:20<00:00,  1.79it/s]\n",
            "                 Class     Images  Instances      Box(P          R      mAP50  mAP50-95)     Mask(P          R      mAP50  mAP50-95): 100%|██████████| 10/10 [00:06<00:00,  1.56it/s]"
          ]
        },
        {
          "output_type": "stream",
          "name": "stdout",
          "text": [
            "                   all        401       2042       0.54      0.781      0.616      0.525      0.548      0.794      0.629       0.51\n"
          ]
        },
        {
          "output_type": "stream",
          "name": "stderr",
          "text": [
            "\n"
          ]
        },
        {
          "output_type": "stream",
          "name": "stdout",
          "text": [
            "\n",
            "      Epoch    GPU_mem   box_loss   seg_loss   cls_loss   dfl_loss  Instances       Size\n"
          ]
        },
        {
          "output_type": "stream",
          "name": "stderr",
          "text": [
            "     55/100      6.06G     0.6305      1.022     0.6157     0.9424         96        640: 100%|██████████| 144/144 [01:21<00:00,  1.78it/s]\n",
            "                 Class     Images  Instances      Box(P          R      mAP50  mAP50-95)     Mask(P          R      mAP50  mAP50-95): 100%|██████████| 10/10 [00:05<00:00,  1.91it/s]\n"
          ]
        },
        {
          "output_type": "stream",
          "name": "stdout",
          "text": [
            "                   all        401       2042      0.574       0.83      0.659      0.561      0.581      0.841      0.668      0.546\n",
            "\u001b[34m\u001b[1mUltralytics HUB: \u001b[0mUploading checkpoint https://hub.ultralytics.com/models/GxOBxL0Bx03wa9rublhs\n",
            "\n",
            "      Epoch    GPU_mem   box_loss   seg_loss   cls_loss   dfl_loss  Instances       Size\n"
          ]
        },
        {
          "output_type": "stream",
          "name": "stderr",
          "text": [
            "     56/100      6.08G     0.6252      1.029     0.6193     0.9414         95        640: 100%|██████████| 144/144 [01:22<00:00,  1.75it/s]\n",
            "                 Class     Images  Instances      Box(P          R      mAP50  mAP50-95)     Mask(P          R      mAP50  mAP50-95): 100%|██████████| 10/10 [00:05<00:00,  1.78it/s]"
          ]
        },
        {
          "output_type": "stream",
          "name": "stdout",
          "text": [
            "                   all        401       2042      0.566      0.821      0.653      0.559       0.58       0.83      0.667      0.546\n"
          ]
        },
        {
          "output_type": "stream",
          "name": "stderr",
          "text": [
            "\n"
          ]
        },
        {
          "output_type": "stream",
          "name": "stdout",
          "text": [
            "\n",
            "      Epoch    GPU_mem   box_loss   seg_loss   cls_loss   dfl_loss  Instances       Size\n"
          ]
        },
        {
          "output_type": "stream",
          "name": "stderr",
          "text": [
            "     57/100      6.09G     0.6215      1.015     0.6161     0.9397         85        640: 100%|██████████| 144/144 [01:20<00:00,  1.78it/s]\n",
            "                 Class     Images  Instances      Box(P          R      mAP50  mAP50-95)     Mask(P          R      mAP50  mAP50-95): 100%|██████████| 10/10 [00:05<00:00,  1.72it/s]"
          ]
        },
        {
          "output_type": "stream",
          "name": "stdout",
          "text": [
            "                   all        401       2042      0.511       0.76      0.575      0.496      0.519      0.778      0.587      0.482\n"
          ]
        },
        {
          "output_type": "stream",
          "name": "stderr",
          "text": [
            "\n"
          ]
        },
        {
          "output_type": "stream",
          "name": "stdout",
          "text": [
            "\n",
            "      Epoch    GPU_mem   box_loss   seg_loss   cls_loss   dfl_loss  Instances       Size\n"
          ]
        },
        {
          "output_type": "stream",
          "name": "stderr",
          "text": [
            "     58/100      6.11G      0.619      1.007      0.611     0.9363        107        640: 100%|██████████| 144/144 [01:20<00:00,  1.80it/s]\n",
            "                 Class     Images  Instances      Box(P          R      mAP50  mAP50-95)     Mask(P          R      mAP50  mAP50-95): 100%|██████████| 10/10 [00:06<00:00,  1.57it/s]"
          ]
        },
        {
          "output_type": "stream",
          "name": "stdout",
          "text": [
            "                   all        401       2042      0.567      0.807      0.636      0.548      0.574       0.83      0.653      0.532\n"
          ]
        },
        {
          "output_type": "stream",
          "name": "stderr",
          "text": [
            "\n"
          ]
        },
        {
          "output_type": "stream",
          "name": "stdout",
          "text": [
            "\n",
            "      Epoch    GPU_mem   box_loss   seg_loss   cls_loss   dfl_loss  Instances       Size\n"
          ]
        },
        {
          "output_type": "stream",
          "name": "stderr",
          "text": [
            "     59/100      6.12G     0.6178       1.01     0.6053     0.9382        101        640: 100%|██████████| 144/144 [01:19<00:00,  1.80it/s]\n",
            "                 Class     Images  Instances      Box(P          R      mAP50  mAP50-95)     Mask(P          R      mAP50  mAP50-95): 100%|██████████| 10/10 [00:05<00:00,  1.72it/s]"
          ]
        },
        {
          "output_type": "stream",
          "name": "stdout",
          "text": [
            "                   all        401       2042       0.55      0.789      0.638      0.547      0.556      0.802      0.652      0.534\n"
          ]
        },
        {
          "output_type": "stream",
          "name": "stderr",
          "text": [
            "\n"
          ]
        },
        {
          "output_type": "stream",
          "name": "stdout",
          "text": [
            "\n",
            "      Epoch    GPU_mem   box_loss   seg_loss   cls_loss   dfl_loss  Instances       Size\n"
          ]
        },
        {
          "output_type": "stream",
          "name": "stderr",
          "text": [
            "     60/100      6.14G     0.6143     0.9965     0.6008     0.9363         82        640: 100%|██████████| 144/144 [01:22<00:00,  1.75it/s]\n",
            "                 Class     Images  Instances      Box(P          R      mAP50  mAP50-95)     Mask(P          R      mAP50  mAP50-95): 100%|██████████| 10/10 [00:05<00:00,  1.74it/s]"
          ]
        },
        {
          "output_type": "stream",
          "name": "stdout",
          "text": [
            "                   all        401       2042      0.568       0.78      0.627      0.543      0.573      0.796       0.64      0.525\n"
          ]
        },
        {
          "output_type": "stream",
          "name": "stderr",
          "text": [
            "\n"
          ]
        },
        {
          "output_type": "stream",
          "name": "stdout",
          "text": [
            "\n",
            "      Epoch    GPU_mem   box_loss   seg_loss   cls_loss   dfl_loss  Instances       Size\n"
          ]
        },
        {
          "output_type": "stream",
          "name": "stderr",
          "text": [
            "     61/100      6.16G     0.6122     0.9985     0.5937     0.9365        112        640: 100%|██████████| 144/144 [01:21<00:00,  1.77it/s]\n",
            "                 Class     Images  Instances      Box(P          R      mAP50  mAP50-95)     Mask(P          R      mAP50  mAP50-95): 100%|██████████| 10/10 [00:06<00:00,  1.50it/s]"
          ]
        },
        {
          "output_type": "stream",
          "name": "stdout",
          "text": [
            "                   all        401       2042      0.554      0.781      0.615      0.531      0.565      0.798      0.634      0.519\n"
          ]
        },
        {
          "output_type": "stream",
          "name": "stderr",
          "text": [
            "\n"
          ]
        },
        {
          "output_type": "stream",
          "name": "stdout",
          "text": [
            "\n",
            "      Epoch    GPU_mem   box_loss   seg_loss   cls_loss   dfl_loss  Instances       Size\n"
          ]
        },
        {
          "output_type": "stream",
          "name": "stderr",
          "text": [
            "     62/100      6.17G     0.6081     0.9987     0.5959     0.9358         85        640: 100%|██████████| 144/144 [01:19<00:00,  1.80it/s]\n",
            "                 Class     Images  Instances      Box(P          R      mAP50  mAP50-95)     Mask(P          R      mAP50  mAP50-95): 100%|██████████| 10/10 [00:06<00:00,  1.61it/s]"
          ]
        },
        {
          "output_type": "stream",
          "name": "stdout",
          "text": [
            "                   all        401       2042      0.575      0.782      0.646      0.555      0.581      0.794       0.66      0.542\n"
          ]
        },
        {
          "output_type": "stream",
          "name": "stderr",
          "text": [
            "\n"
          ]
        },
        {
          "output_type": "stream",
          "name": "stdout",
          "text": [
            "\n",
            "      Epoch    GPU_mem   box_loss   seg_loss   cls_loss   dfl_loss  Instances       Size\n"
          ]
        },
        {
          "output_type": "stream",
          "name": "stderr",
          "text": [
            "     63/100      6.19G     0.6048     0.9834     0.5784     0.9308         86        640: 100%|██████████| 144/144 [01:20<00:00,  1.79it/s]\n",
            "                 Class     Images  Instances      Box(P          R      mAP50  mAP50-95)     Mask(P          R      mAP50  mAP50-95): 100%|██████████| 10/10 [00:05<00:00,  1.90it/s]"
          ]
        },
        {
          "output_type": "stream",
          "name": "stdout",
          "text": [
            "                   all        401       2042      0.522       0.76      0.583      0.505      0.528      0.761      0.596      0.492\n"
          ]
        },
        {
          "output_type": "stream",
          "name": "stderr",
          "text": [
            "\n"
          ]
        },
        {
          "output_type": "stream",
          "name": "stdout",
          "text": [
            "\n",
            "      Epoch    GPU_mem   box_loss   seg_loss   cls_loss   dfl_loss  Instances       Size\n"
          ]
        },
        {
          "output_type": "stream",
          "name": "stderr",
          "text": [
            "     64/100      6.21G     0.6084     0.9868     0.5844     0.9352        113        640: 100%|██████████| 144/144 [01:22<00:00,  1.75it/s]\n",
            "                 Class     Images  Instances      Box(P          R      mAP50  mAP50-95)     Mask(P          R      mAP50  mAP50-95): 100%|██████████| 10/10 [00:05<00:00,  1.76it/s]"
          ]
        },
        {
          "output_type": "stream",
          "name": "stdout",
          "text": [
            "                   all        401       2042      0.551      0.791      0.615       0.53      0.557      0.802      0.626      0.519\n"
          ]
        },
        {
          "output_type": "stream",
          "name": "stderr",
          "text": [
            "\n"
          ]
        },
        {
          "output_type": "stream",
          "name": "stdout",
          "text": [
            "\n",
            "      Epoch    GPU_mem   box_loss   seg_loss   cls_loss   dfl_loss  Instances       Size\n"
          ]
        },
        {
          "output_type": "stream",
          "name": "stderr",
          "text": [
            "     65/100      6.22G     0.6037     0.9843     0.5822     0.9311         65        640: 100%|██████████| 144/144 [01:20<00:00,  1.78it/s]\n",
            "                 Class     Images  Instances      Box(P          R      mAP50  mAP50-95)     Mask(P          R      mAP50  mAP50-95): 100%|██████████| 10/10 [00:06<00:00,  1.62it/s]"
          ]
        },
        {
          "output_type": "stream",
          "name": "stdout",
          "text": [
            "                   all        401       2042      0.554      0.809      0.627      0.543      0.561      0.824      0.641      0.529\n"
          ]
        },
        {
          "output_type": "stream",
          "name": "stderr",
          "text": [
            "\n"
          ]
        },
        {
          "output_type": "stream",
          "name": "stdout",
          "text": [
            "\n",
            "      Epoch    GPU_mem   box_loss   seg_loss   cls_loss   dfl_loss  Instances       Size\n"
          ]
        },
        {
          "output_type": "stream",
          "name": "stderr",
          "text": [
            "     66/100      6.24G     0.6039     0.9883     0.5811      0.931        115        640: 100%|██████████| 144/144 [01:21<00:00,  1.76it/s]\n",
            "                 Class     Images  Instances      Box(P          R      mAP50  mAP50-95)     Mask(P          R      mAP50  mAP50-95): 100%|██████████| 10/10 [00:06<00:00,  1.52it/s]"
          ]
        },
        {
          "output_type": "stream",
          "name": "stdout",
          "text": [
            "                   all        401       2042      0.538      0.781      0.606      0.523      0.546      0.792      0.615       0.51\n"
          ]
        },
        {
          "output_type": "stream",
          "name": "stderr",
          "text": [
            "\n"
          ]
        },
        {
          "output_type": "stream",
          "name": "stdout",
          "text": [
            "\u001b[34m\u001b[1mUltralytics HUB: \u001b[0mUploading checkpoint https://hub.ultralytics.com/models/GxOBxL0Bx03wa9rublhs\n",
            "\n",
            "      Epoch    GPU_mem   box_loss   seg_loss   cls_loss   dfl_loss  Instances       Size\n"
          ]
        },
        {
          "output_type": "stream",
          "name": "stderr",
          "text": [
            "     67/100      6.25G     0.6005     0.9759      0.571     0.9295         81        640: 100%|██████████| 144/144 [01:23<00:00,  1.73it/s]\n",
            "                 Class     Images  Instances      Box(P          R      mAP50  mAP50-95)     Mask(P          R      mAP50  mAP50-95): 100%|██████████| 10/10 [00:06<00:00,  1.53it/s]"
          ]
        },
        {
          "output_type": "stream",
          "name": "stdout",
          "text": [
            "                   all        401       2042      0.566      0.792      0.639      0.549      0.574      0.805      0.651      0.537\n"
          ]
        },
        {
          "output_type": "stream",
          "name": "stderr",
          "text": [
            "\n"
          ]
        },
        {
          "output_type": "stream",
          "name": "stdout",
          "text": [
            "\n",
            "      Epoch    GPU_mem   box_loss   seg_loss   cls_loss   dfl_loss  Instances       Size\n"
          ]
        },
        {
          "output_type": "stream",
          "name": "stderr",
          "text": [
            "     68/100      6.27G     0.5969     0.9727     0.5634     0.9292         88        640: 100%|██████████| 144/144 [01:23<00:00,  1.73it/s]\n",
            "                 Class     Images  Instances      Box(P          R      mAP50  mAP50-95)     Mask(P          R      mAP50  mAP50-95): 100%|██████████| 10/10 [00:05<00:00,  1.67it/s]\n"
          ]
        },
        {
          "output_type": "stream",
          "name": "stdout",
          "text": [
            "                   all        401       2042      0.585      0.827      0.656      0.564      0.594      0.841      0.672      0.552\n",
            "\n",
            "      Epoch    GPU_mem   box_loss   seg_loss   cls_loss   dfl_loss  Instances       Size\n"
          ]
        },
        {
          "output_type": "stream",
          "name": "stderr",
          "text": [
            "     69/100      6.29G      0.599     0.9691     0.5659     0.9323         92        640: 100%|██████████| 144/144 [01:21<00:00,  1.77it/s]\n",
            "                 Class     Images  Instances      Box(P          R      mAP50  mAP50-95)     Mask(P          R      mAP50  mAP50-95): 100%|██████████| 10/10 [00:05<00:00,  1.82it/s]"
          ]
        },
        {
          "output_type": "stream",
          "name": "stdout",
          "text": [
            "                   all        401       2042      0.573      0.808       0.65      0.563      0.581      0.822      0.663      0.548\n"
          ]
        },
        {
          "output_type": "stream",
          "name": "stderr",
          "text": [
            "\n"
          ]
        },
        {
          "output_type": "stream",
          "name": "stdout",
          "text": [
            "\n",
            "      Epoch    GPU_mem   box_loss   seg_loss   cls_loss   dfl_loss  Instances       Size\n"
          ]
        },
        {
          "output_type": "stream",
          "name": "stderr",
          "text": [
            "     70/100       6.3G     0.5951     0.9688     0.5672     0.9277         63        640: 100%|██████████| 144/144 [01:22<00:00,  1.76it/s]\n",
            "                 Class     Images  Instances      Box(P          R      mAP50  mAP50-95)     Mask(P          R      mAP50  mAP50-95): 100%|██████████| 10/10 [00:05<00:00,  1.75it/s]"
          ]
        },
        {
          "output_type": "stream",
          "name": "stdout",
          "text": [
            "                   all        401       2042      0.584      0.836       0.66      0.569      0.591      0.835       0.67      0.555\n"
          ]
        },
        {
          "output_type": "stream",
          "name": "stderr",
          "text": [
            "\n"
          ]
        },
        {
          "output_type": "stream",
          "name": "stdout",
          "text": [
            "\n",
            "      Epoch    GPU_mem   box_loss   seg_loss   cls_loss   dfl_loss  Instances       Size\n"
          ]
        },
        {
          "output_type": "stream",
          "name": "stderr",
          "text": [
            "     71/100      6.32G     0.5938     0.9671     0.5621     0.9295         82        640: 100%|██████████| 144/144 [01:21<00:00,  1.77it/s]\n",
            "                 Class     Images  Instances      Box(P          R      mAP50  mAP50-95)     Mask(P          R      mAP50  mAP50-95): 100%|██████████| 10/10 [00:06<00:00,  1.48it/s]"
          ]
        },
        {
          "output_type": "stream",
          "name": "stdout",
          "text": [
            "                   all        401       2042      0.587      0.846      0.671      0.583      0.593      0.854      0.685      0.562\n"
          ]
        },
        {
          "output_type": "stream",
          "name": "stderr",
          "text": [
            "\n"
          ]
        },
        {
          "output_type": "stream",
          "name": "stdout",
          "text": [
            "\n",
            "      Epoch    GPU_mem   box_loss   seg_loss   cls_loss   dfl_loss  Instances       Size\n"
          ]
        },
        {
          "output_type": "stream",
          "name": "stderr",
          "text": [
            "     72/100      6.34G     0.5907      0.967     0.5603     0.9264         84        640: 100%|██████████| 144/144 [01:21<00:00,  1.77it/s]\n",
            "                 Class     Images  Instances      Box(P          R      mAP50  mAP50-95)     Mask(P          R      mAP50  mAP50-95): 100%|██████████| 10/10 [00:06<00:00,  1.60it/s]"
          ]
        },
        {
          "output_type": "stream",
          "name": "stdout",
          "text": [
            "                   all        401       2042      0.544      0.798      0.605      0.524      0.551       0.81      0.616       0.51\n"
          ]
        },
        {
          "output_type": "stream",
          "name": "stderr",
          "text": [
            "\n"
          ]
        },
        {
          "output_type": "stream",
          "name": "stdout",
          "text": [
            "\n",
            "      Epoch    GPU_mem   box_loss   seg_loss   cls_loss   dfl_loss  Instances       Size\n"
          ]
        },
        {
          "output_type": "stream",
          "name": "stderr",
          "text": [
            "     73/100      6.35G     0.5856     0.9529     0.5519     0.9268         91        640: 100%|██████████| 144/144 [01:21<00:00,  1.77it/s]\n",
            "                 Class     Images  Instances      Box(P          R      mAP50  mAP50-95)     Mask(P          R      mAP50  mAP50-95): 100%|██████████| 10/10 [00:05<00:00,  1.70it/s]"
          ]
        },
        {
          "output_type": "stream",
          "name": "stdout",
          "text": [
            "                   all        401       2042      0.532      0.741      0.576        0.5      0.534      0.749      0.585      0.488\n"
          ]
        },
        {
          "output_type": "stream",
          "name": "stderr",
          "text": [
            "\n"
          ]
        },
        {
          "output_type": "stream",
          "name": "stdout",
          "text": [
            "\n",
            "      Epoch    GPU_mem   box_loss   seg_loss   cls_loss   dfl_loss  Instances       Size\n"
          ]
        },
        {
          "output_type": "stream",
          "name": "stderr",
          "text": [
            "     74/100      6.37G     0.5889     0.9663     0.5535     0.9252        109        640: 100%|██████████| 144/144 [01:22<00:00,  1.75it/s]\n",
            "                 Class     Images  Instances      Box(P          R      mAP50  mAP50-95)     Mask(P          R      mAP50  mAP50-95): 100%|██████████| 10/10 [00:05<00:00,  1.78it/s]"
          ]
        },
        {
          "output_type": "stream",
          "name": "stdout",
          "text": [
            "                   all        401       2042      0.591      0.804      0.665      0.576        0.6      0.816      0.679      0.559\n"
          ]
        },
        {
          "output_type": "stream",
          "name": "stderr",
          "text": [
            "\n"
          ]
        },
        {
          "output_type": "stream",
          "name": "stdout",
          "text": [
            "\n",
            "      Epoch    GPU_mem   box_loss   seg_loss   cls_loss   dfl_loss  Instances       Size\n"
          ]
        },
        {
          "output_type": "stream",
          "name": "stderr",
          "text": [
            "     75/100      6.38G      0.586     0.9546     0.5523     0.9258         84        640: 100%|██████████| 144/144 [01:22<00:00,  1.74it/s]\n",
            "                 Class     Images  Instances      Box(P          R      mAP50  mAP50-95)     Mask(P          R      mAP50  mAP50-95): 100%|██████████| 10/10 [00:05<00:00,  1.89it/s]"
          ]
        },
        {
          "output_type": "stream",
          "name": "stdout",
          "text": [
            "                   all        401       2042      0.566      0.842      0.651      0.564      0.572      0.852      0.664      0.551\n"
          ]
        },
        {
          "output_type": "stream",
          "name": "stderr",
          "text": [
            "\n"
          ]
        },
        {
          "output_type": "stream",
          "name": "stdout",
          "text": [
            "\n",
            "      Epoch    GPU_mem   box_loss   seg_loss   cls_loss   dfl_loss  Instances       Size\n"
          ]
        },
        {
          "output_type": "stream",
          "name": "stderr",
          "text": [
            "     76/100       6.4G      0.589     0.9579     0.5524      0.925         98        640: 100%|██████████| 144/144 [01:19<00:00,  1.82it/s]\n",
            "                 Class     Images  Instances      Box(P          R      mAP50  mAP50-95)     Mask(P          R      mAP50  mAP50-95): 100%|██████████| 10/10 [00:06<00:00,  1.59it/s]"
          ]
        },
        {
          "output_type": "stream",
          "name": "stdout",
          "text": [
            "                   all        401       2042      0.575      0.784      0.659      0.574      0.587        0.8      0.675      0.561\n"
          ]
        },
        {
          "output_type": "stream",
          "name": "stderr",
          "text": [
            "\n"
          ]
        },
        {
          "output_type": "stream",
          "name": "stdout",
          "text": [
            "\n",
            "      Epoch    GPU_mem   box_loss   seg_loss   cls_loss   dfl_loss  Instances       Size\n"
          ]
        },
        {
          "output_type": "stream",
          "name": "stderr",
          "text": [
            "     77/100      6.42G     0.5854      0.944     0.5379      0.924         63        640: 100%|██████████| 144/144 [01:19<00:00,  1.80it/s]\n",
            "                 Class     Images  Instances      Box(P          R      mAP50  mAP50-95)     Mask(P          R      mAP50  mAP50-95): 100%|██████████| 10/10 [00:05<00:00,  1.70it/s]"
          ]
        },
        {
          "output_type": "stream",
          "name": "stdout",
          "text": [
            "                   all        401       2042      0.556      0.815      0.651      0.564      0.564      0.828       0.66      0.547\n"
          ]
        },
        {
          "output_type": "stream",
          "name": "stderr",
          "text": [
            "\n"
          ]
        },
        {
          "output_type": "stream",
          "name": "stdout",
          "text": [
            "\u001b[34m\u001b[1mUltralytics HUB: \u001b[0mUploading checkpoint https://hub.ultralytics.com/models/GxOBxL0Bx03wa9rublhs\n",
            "\n",
            "      Epoch    GPU_mem   box_loss   seg_loss   cls_loss   dfl_loss  Instances       Size\n"
          ]
        },
        {
          "output_type": "stream",
          "name": "stderr",
          "text": [
            "     78/100      6.43G     0.5859     0.9591     0.5498     0.9269        106        640: 100%|██████████| 144/144 [01:19<00:00,  1.81it/s]\n",
            "                 Class     Images  Instances      Box(P          R      mAP50  mAP50-95)     Mask(P          R      mAP50  mAP50-95): 100%|██████████| 10/10 [00:05<00:00,  1.79it/s]"
          ]
        },
        {
          "output_type": "stream",
          "name": "stdout",
          "text": [
            "                   all        401       2042      0.565      0.799      0.648      0.562      0.574      0.814      0.661      0.548\n"
          ]
        },
        {
          "output_type": "stream",
          "name": "stderr",
          "text": [
            "\n"
          ]
        },
        {
          "output_type": "stream",
          "name": "stdout",
          "text": [
            "\n",
            "      Epoch    GPU_mem   box_loss   seg_loss   cls_loss   dfl_loss  Instances       Size\n"
          ]
        },
        {
          "output_type": "stream",
          "name": "stderr",
          "text": [
            "     79/100      6.45G     0.5813     0.9416     0.5389     0.9216        109        640: 100%|██████████| 144/144 [01:19<00:00,  1.81it/s]\n",
            "                 Class     Images  Instances      Box(P          R      mAP50  mAP50-95)     Mask(P          R      mAP50  mAP50-95): 100%|██████████| 10/10 [00:06<00:00,  1.55it/s]"
          ]
        },
        {
          "output_type": "stream",
          "name": "stdout",
          "text": [
            "                   all        401       2042       0.54      0.818      0.629      0.544      0.556      0.806      0.641      0.527\n"
          ]
        },
        {
          "output_type": "stream",
          "name": "stderr",
          "text": [
            "\n"
          ]
        },
        {
          "output_type": "stream",
          "name": "stdout",
          "text": [
            "\n",
            "      Epoch    GPU_mem   box_loss   seg_loss   cls_loss   dfl_loss  Instances       Size\n"
          ]
        },
        {
          "output_type": "stream",
          "name": "stderr",
          "text": [
            "     80/100      6.46G     0.5777     0.9476      0.541     0.9227        114        640: 100%|██████████| 144/144 [01:19<00:00,  1.82it/s]\n",
            "                 Class     Images  Instances      Box(P          R      mAP50  mAP50-95)     Mask(P          R      mAP50  mAP50-95): 100%|██████████| 10/10 [00:05<00:00,  1.70it/s]\n"
          ]
        },
        {
          "output_type": "stream",
          "name": "stdout",
          "text": [
            "                   all        401       2042      0.575      0.792      0.653       0.57      0.594      0.774      0.667      0.554\n",
            "\n",
            "      Epoch    GPU_mem   box_loss   seg_loss   cls_loss   dfl_loss  Instances       Size\n"
          ]
        },
        {
          "output_type": "stream",
          "name": "stderr",
          "text": [
            "     81/100      6.48G     0.5747     0.9271     0.5276     0.9222         98        640: 100%|██████████| 144/144 [01:19<00:00,  1.82it/s]\n",
            "                 Class     Images  Instances      Box(P          R      mAP50  mAP50-95)     Mask(P          R      mAP50  mAP50-95): 100%|██████████| 10/10 [00:05<00:00,  1.78it/s]"
          ]
        },
        {
          "output_type": "stream",
          "name": "stdout",
          "text": [
            "                   all        401       2042      0.561      0.821       0.65      0.563      0.569      0.834       0.66      0.549\n"
          ]
        },
        {
          "output_type": "stream",
          "name": "stderr",
          "text": [
            "\n"
          ]
        },
        {
          "output_type": "stream",
          "name": "stdout",
          "text": [
            "\n",
            "      Epoch    GPU_mem   box_loss   seg_loss   cls_loss   dfl_loss  Instances       Size\n"
          ]
        },
        {
          "output_type": "stream",
          "name": "stderr",
          "text": [
            "     82/100       6.5G     0.5707     0.9381     0.5241     0.9205         89        640: 100%|██████████| 144/144 [01:19<00:00,  1.81it/s]\n",
            "                 Class     Images  Instances      Box(P          R      mAP50  mAP50-95)     Mask(P          R      mAP50  mAP50-95): 100%|██████████| 10/10 [00:06<00:00,  1.59it/s]"
          ]
        },
        {
          "output_type": "stream",
          "name": "stdout",
          "text": [
            "                   all        401       2042      0.559      0.814      0.649      0.562      0.568      0.821      0.659      0.547\n"
          ]
        },
        {
          "output_type": "stream",
          "name": "stderr",
          "text": [
            "\n"
          ]
        },
        {
          "output_type": "stream",
          "name": "stdout",
          "text": [
            "\n",
            "      Epoch    GPU_mem   box_loss   seg_loss   cls_loss   dfl_loss  Instances       Size\n"
          ]
        },
        {
          "output_type": "stream",
          "name": "stderr",
          "text": [
            "     83/100      6.51G     0.5694     0.9317     0.5214     0.9178        127        640: 100%|██████████| 144/144 [01:18<00:00,  1.83it/s]\n",
            "                 Class     Images  Instances      Box(P          R      mAP50  mAP50-95)     Mask(P          R      mAP50  mAP50-95): 100%|██████████| 10/10 [00:05<00:00,  1.86it/s]"
          ]
        },
        {
          "output_type": "stream",
          "name": "stdout",
          "text": [
            "                   all        401       2042      0.574      0.783       0.65      0.564      0.588      0.783       0.66      0.552\n"
          ]
        },
        {
          "output_type": "stream",
          "name": "stderr",
          "text": [
            "\n"
          ]
        },
        {
          "output_type": "stream",
          "name": "stdout",
          "text": [
            "\n",
            "      Epoch    GPU_mem   box_loss   seg_loss   cls_loss   dfl_loss  Instances       Size\n"
          ]
        },
        {
          "output_type": "stream",
          "name": "stderr",
          "text": [
            "     84/100      6.53G     0.5713     0.9228     0.5199     0.9215         97        640: 100%|██████████| 144/144 [01:19<00:00,  1.81it/s]\n",
            "                 Class     Images  Instances      Box(P          R      mAP50  mAP50-95)     Mask(P          R      mAP50  mAP50-95): 100%|██████████| 10/10 [00:06<00:00,  1.48it/s]"
          ]
        },
        {
          "output_type": "stream",
          "name": "stdout",
          "text": [
            "                   all        401       2042      0.578      0.801      0.672      0.585      0.583      0.813      0.685      0.566\n"
          ]
        },
        {
          "output_type": "stream",
          "name": "stderr",
          "text": [
            "\n"
          ]
        },
        {
          "output_type": "stream",
          "name": "stdout",
          "text": [
            "\n",
            "      Epoch    GPU_mem   box_loss   seg_loss   cls_loss   dfl_loss  Instances       Size\n"
          ]
        },
        {
          "output_type": "stream",
          "name": "stderr",
          "text": [
            "     85/100      6.55G     0.5698     0.9332     0.5197     0.9185         79        640: 100%|██████████| 144/144 [01:18<00:00,  1.84it/s]\n",
            "                 Class     Images  Instances      Box(P          R      mAP50  mAP50-95)     Mask(P          R      mAP50  mAP50-95): 100%|██████████| 10/10 [00:05<00:00,  1.70it/s]\n"
          ]
        },
        {
          "output_type": "stream",
          "name": "stdout",
          "text": [
            "                   all        401       2042      0.581      0.804      0.668      0.581      0.587      0.818      0.681      0.564\n",
            "\n",
            "      Epoch    GPU_mem   box_loss   seg_loss   cls_loss   dfl_loss  Instances       Size\n"
          ]
        },
        {
          "output_type": "stream",
          "name": "stderr",
          "text": [
            "     86/100      6.56G     0.5719      0.931     0.5207     0.9183        103        640: 100%|██████████| 144/144 [01:17<00:00,  1.85it/s]\n",
            "                 Class     Images  Instances      Box(P          R      mAP50  mAP50-95)     Mask(P          R      mAP50  mAP50-95): 100%|██████████| 10/10 [00:06<00:00,  1.64it/s]"
          ]
        },
        {
          "output_type": "stream",
          "name": "stdout",
          "text": [
            "                   all        401       2042       0.57       0.79      0.656      0.568      0.576      0.802      0.668      0.554\n"
          ]
        },
        {
          "output_type": "stream",
          "name": "stderr",
          "text": [
            "\n"
          ]
        },
        {
          "output_type": "stream",
          "name": "stdout",
          "text": [
            "\n",
            "      Epoch    GPU_mem   box_loss   seg_loss   cls_loss   dfl_loss  Instances       Size\n"
          ]
        },
        {
          "output_type": "stream",
          "name": "stderr",
          "text": [
            "     87/100      6.58G     0.5646     0.9279     0.5133     0.9184        106        640: 100%|██████████| 144/144 [01:19<00:00,  1.80it/s]\n",
            "                 Class     Images  Instances      Box(P          R      mAP50  mAP50-95)     Mask(P          R      mAP50  mAP50-95): 100%|██████████| 10/10 [00:06<00:00,  1.58it/s]"
          ]
        },
        {
          "output_type": "stream",
          "name": "stdout",
          "text": [
            "                   all        401       2042      0.574      0.803      0.663      0.577       0.58      0.817      0.677      0.562\n"
          ]
        },
        {
          "output_type": "stream",
          "name": "stderr",
          "text": [
            "\n"
          ]
        },
        {
          "output_type": "stream",
          "name": "stdout",
          "text": [
            "\n",
            "      Epoch    GPU_mem   box_loss   seg_loss   cls_loss   dfl_loss  Instances       Size\n"
          ]
        },
        {
          "output_type": "stream",
          "name": "stderr",
          "text": [
            "     88/100       6.6G     0.5683     0.9283     0.5194     0.9195         65        640: 100%|██████████| 144/144 [01:19<00:00,  1.82it/s]\n",
            "                 Class     Images  Instances      Box(P          R      mAP50  mAP50-95)     Mask(P          R      mAP50  mAP50-95): 100%|██████████| 10/10 [00:05<00:00,  1.96it/s]"
          ]
        },
        {
          "output_type": "stream",
          "name": "stdout",
          "text": [
            "                   all        401       2042      0.577      0.785      0.664      0.576      0.585        0.8      0.677       0.56\n"
          ]
        },
        {
          "output_type": "stream",
          "name": "stderr",
          "text": [
            "\n"
          ]
        },
        {
          "output_type": "stream",
          "name": "stdout",
          "text": [
            "\u001b[34m\u001b[1mUltralytics HUB: \u001b[0mUploading checkpoint https://hub.ultralytics.com/models/GxOBxL0Bx03wa9rublhs\n",
            "\n",
            "      Epoch    GPU_mem   box_loss   seg_loss   cls_loss   dfl_loss  Instances       Size\n"
          ]
        },
        {
          "output_type": "stream",
          "name": "stderr",
          "text": [
            "     89/100      6.61G      0.565     0.9211     0.5106      0.918         70        640: 100%|██████████| 144/144 [01:20<00:00,  1.79it/s]\n",
            "                 Class     Images  Instances      Box(P          R      mAP50  mAP50-95)     Mask(P          R      mAP50  mAP50-95): 100%|██████████| 10/10 [00:05<00:00,  1.77it/s]"
          ]
        },
        {
          "output_type": "stream",
          "name": "stdout",
          "text": [
            "                   all        401       2042      0.557       0.78      0.628      0.547      0.564      0.793      0.639      0.531\n"
          ]
        },
        {
          "output_type": "stream",
          "name": "stderr",
          "text": [
            "\n"
          ]
        },
        {
          "output_type": "stream",
          "name": "stdout",
          "text": [
            "\n",
            "      Epoch    GPU_mem   box_loss   seg_loss   cls_loss   dfl_loss  Instances       Size\n"
          ]
        },
        {
          "output_type": "stream",
          "name": "stderr",
          "text": [
            "     90/100      6.63G     0.5611     0.9078     0.5056     0.9154         90        640: 100%|██████████| 144/144 [01:17<00:00,  1.86it/s]\n",
            "                 Class     Images  Instances      Box(P          R      mAP50  mAP50-95)     Mask(P          R      mAP50  mAP50-95): 100%|██████████| 10/10 [00:05<00:00,  1.73it/s]\n"
          ]
        },
        {
          "output_type": "stream",
          "name": "stdout",
          "text": [
            "                   all        401       2042      0.565      0.791       0.65      0.566      0.589      0.762      0.661      0.551\n",
            "Closing dataloader mosaic\n",
            "\u001b[34m\u001b[1malbumentations: \u001b[0mBlur(p=0.01, blur_limit=(3, 7)), MedianBlur(p=0.01, blur_limit=(3, 7)), ToGray(p=0.01, num_output_channels=3, method='weighted_average'), CLAHE(p=0.01, clip_limit=(1.0, 4.0), tile_grid_size=(8, 8))\n",
            "\n",
            "      Epoch    GPU_mem   box_loss   seg_loss   cls_loss   dfl_loss  Instances       Size\n"
          ]
        },
        {
          "output_type": "stream",
          "name": "stderr",
          "text": [
            "     91/100      6.65G     0.4994     0.8155     0.4314     0.8911         49        640: 100%|██████████| 144/144 [01:10<00:00,  2.05it/s]\n",
            "                 Class     Images  Instances      Box(P          R      mAP50  mAP50-95)     Mask(P          R      mAP50  mAP50-95): 100%|██████████| 10/10 [00:05<00:00,  1.97it/s]\n"
          ]
        },
        {
          "output_type": "stream",
          "name": "stdout",
          "text": [
            "                   all        401       2042       0.57      0.811      0.659      0.571      0.583      0.815      0.673      0.555\n",
            "\n",
            "      Epoch    GPU_mem   box_loss   seg_loss   cls_loss   dfl_loss  Instances       Size\n"
          ]
        },
        {
          "output_type": "stream",
          "name": "stderr",
          "text": [
            "     92/100      6.66G     0.4888     0.7869     0.4126     0.8843         55        640: 100%|██████████| 144/144 [01:06<00:00,  2.16it/s]\n",
            "                 Class     Images  Instances      Box(P          R      mAP50  mAP50-95)     Mask(P          R      mAP50  mAP50-95): 100%|██████████| 10/10 [00:05<00:00,  1.95it/s]"
          ]
        },
        {
          "output_type": "stream",
          "name": "stdout",
          "text": [
            "                   all        401       2042        0.6      0.795      0.673      0.582      0.608      0.808      0.685      0.567\n"
          ]
        },
        {
          "output_type": "stream",
          "name": "stderr",
          "text": [
            "\n"
          ]
        },
        {
          "output_type": "stream",
          "name": "stdout",
          "text": [
            "\n",
            "      Epoch    GPU_mem   box_loss   seg_loss   cls_loss   dfl_loss  Instances       Size\n"
          ]
        },
        {
          "output_type": "stream",
          "name": "stderr",
          "text": [
            "     93/100      6.68G      0.486     0.7827     0.4047     0.8815         50        640: 100%|██████████| 144/144 [01:06<00:00,  2.16it/s]\n",
            "                 Class     Images  Instances      Box(P          R      mAP50  mAP50-95)     Mask(P          R      mAP50  mAP50-95): 100%|██████████| 10/10 [00:06<00:00,  1.67it/s]"
          ]
        },
        {
          "output_type": "stream",
          "name": "stdout",
          "text": [
            "                   all        401       2042      0.595      0.795      0.676      0.588      0.602      0.805      0.689      0.571\n"
          ]
        },
        {
          "output_type": "stream",
          "name": "stderr",
          "text": [
            "\n"
          ]
        },
        {
          "output_type": "stream",
          "name": "stdout",
          "text": [
            "\n",
            "      Epoch    GPU_mem   box_loss   seg_loss   cls_loss   dfl_loss  Instances       Size\n"
          ]
        },
        {
          "output_type": "stream",
          "name": "stderr",
          "text": [
            "     94/100       6.7G     0.4773     0.7702     0.3971     0.8786         65        640: 100%|██████████| 144/144 [01:06<00:00,  2.16it/s]\n",
            "                 Class     Images  Instances      Box(P          R      mAP50  mAP50-95)     Mask(P          R      mAP50  mAP50-95): 100%|██████████| 10/10 [00:05<00:00,  1.89it/s]"
          ]
        },
        {
          "output_type": "stream",
          "name": "stdout",
          "text": [
            "                   all        401       2042        0.6      0.782      0.676      0.587      0.613      0.781       0.69      0.572\n"
          ]
        },
        {
          "output_type": "stream",
          "name": "stderr",
          "text": [
            "\n"
          ]
        },
        {
          "output_type": "stream",
          "name": "stdout",
          "text": [
            "\n",
            "      Epoch    GPU_mem   box_loss   seg_loss   cls_loss   dfl_loss  Instances       Size\n"
          ]
        },
        {
          "output_type": "stream",
          "name": "stderr",
          "text": [
            "     95/100      6.71G     0.4771     0.7694     0.3932     0.8783         59        640: 100%|██████████| 144/144 [01:07<00:00,  2.12it/s]\n",
            "                 Class     Images  Instances      Box(P          R      mAP50  mAP50-95)     Mask(P          R      mAP50  mAP50-95): 100%|██████████| 10/10 [00:05<00:00,  1.82it/s]"
          ]
        },
        {
          "output_type": "stream",
          "name": "stdout",
          "text": [
            "                   all        401       2042      0.587      0.817      0.673      0.586      0.595      0.831      0.687      0.568\n"
          ]
        },
        {
          "output_type": "stream",
          "name": "stderr",
          "text": [
            "\n"
          ]
        },
        {
          "output_type": "stream",
          "name": "stdout",
          "text": [
            "\n",
            "      Epoch    GPU_mem   box_loss   seg_loss   cls_loss   dfl_loss  Instances       Size\n"
          ]
        },
        {
          "output_type": "stream",
          "name": "stderr",
          "text": [
            "     96/100      6.73G     0.4735     0.7644     0.3873     0.8765         52        640: 100%|██████████| 144/144 [01:06<00:00,  2.16it/s]\n",
            "                 Class     Images  Instances      Box(P          R      mAP50  mAP50-95)     Mask(P          R      mAP50  mAP50-95): 100%|██████████| 10/10 [00:05<00:00,  1.71it/s]\n"
          ]
        },
        {
          "output_type": "stream",
          "name": "stdout",
          "text": [
            "                   all        401       2042      0.598       0.78      0.673      0.584      0.612      0.787      0.689      0.568\n",
            "\n",
            "      Epoch    GPU_mem   box_loss   seg_loss   cls_loss   dfl_loss  Instances       Size\n"
          ]
        },
        {
          "output_type": "stream",
          "name": "stderr",
          "text": [
            "     97/100      6.74G     0.4745     0.7664     0.3861     0.8776         57        640: 100%|██████████| 144/144 [01:06<00:00,  2.18it/s]\n",
            "                 Class     Images  Instances      Box(P          R      mAP50  mAP50-95)     Mask(P          R      mAP50  mAP50-95): 100%|██████████| 10/10 [00:05<00:00,  1.97it/s]"
          ]
        },
        {
          "output_type": "stream",
          "name": "stdout",
          "text": [
            "                   all        401       2042      0.591      0.789      0.678       0.59      0.599      0.802      0.693      0.572\n"
          ]
        },
        {
          "output_type": "stream",
          "name": "stderr",
          "text": [
            "\n"
          ]
        },
        {
          "output_type": "stream",
          "name": "stdout",
          "text": [
            "\n",
            "      Epoch    GPU_mem   box_loss   seg_loss   cls_loss   dfl_loss  Instances       Size\n"
          ]
        },
        {
          "output_type": "stream",
          "name": "stderr",
          "text": [
            "     98/100      6.76G     0.4714     0.7615     0.3804     0.8743         54        640: 100%|██████████| 144/144 [01:06<00:00,  2.16it/s]\n",
            "                 Class     Images  Instances      Box(P          R      mAP50  mAP50-95)     Mask(P          R      mAP50  mAP50-95): 100%|██████████| 10/10 [00:06<00:00,  1.66it/s]\n"
          ]
        },
        {
          "output_type": "stream",
          "name": "stdout",
          "text": [
            "                   all        401       2042      0.596      0.815      0.684      0.595      0.605      0.825      0.697      0.577\n",
            "\n",
            "      Epoch    GPU_mem   box_loss   seg_loss   cls_loss   dfl_loss  Instances       Size\n"
          ]
        },
        {
          "output_type": "stream",
          "name": "stderr",
          "text": [
            "     99/100      6.78G     0.4657     0.7538     0.3801     0.8756         64        640: 100%|██████████| 144/144 [01:06<00:00,  2.17it/s]\n",
            "                 Class     Images  Instances      Box(P          R      mAP50  mAP50-95)     Mask(P          R      mAP50  mAP50-95): 100%|██████████| 10/10 [00:04<00:00,  2.02it/s]"
          ]
        },
        {
          "output_type": "stream",
          "name": "stdout",
          "text": [
            "                   all        401       2042      0.592      0.807      0.674      0.587      0.598      0.813      0.688      0.571\n"
          ]
        },
        {
          "output_type": "stream",
          "name": "stderr",
          "text": [
            "\n"
          ]
        },
        {
          "output_type": "stream",
          "name": "stdout",
          "text": [
            "\n",
            "      Epoch    GPU_mem   box_loss   seg_loss   cls_loss   dfl_loss  Instances       Size\n"
          ]
        },
        {
          "output_type": "stream",
          "name": "stderr",
          "text": [
            "    100/100      6.79G     0.4687     0.7622     0.3787     0.8754         58        640: 100%|██████████| 144/144 [01:06<00:00,  2.17it/s]\n",
            "                 Class     Images  Instances      Box(P          R      mAP50  mAP50-95)     Mask(P          R      mAP50  mAP50-95): 100%|██████████| 10/10 [00:05<00:00,  1.76it/s]"
          ]
        },
        {
          "output_type": "stream",
          "name": "stdout",
          "text": [
            "                   all        401       2042      0.596      0.798      0.678      0.591      0.607      0.801      0.692      0.574\n"
          ]
        },
        {
          "output_type": "stream",
          "name": "stderr",
          "text": [
            "\n"
          ]
        },
        {
          "output_type": "stream",
          "name": "stdout",
          "text": [
            "\u001b[34m\u001b[1mUltralytics HUB: \u001b[0mUploading checkpoint https://hub.ultralytics.com/models/GxOBxL0Bx03wa9rublhs\n",
            "\n",
            "100 epochs completed in 2.396 hours.\n",
            "Optimizer stripped from runs/segment/train/weights/last.pt, 6.0MB\n",
            "Optimizer stripped from runs/segment/train/weights/best.pt, 6.0MB\n",
            "\n",
            "Validating runs/segment/train/weights/best.pt...\n",
            "Ultralytics 8.3.103 🚀 Python-3.11.11 torch-2.6.0+cu124 CUDA:0 (Tesla T4, 15095MiB)\n",
            "YOLO11n-seg summary (fused): 113 layers, 2,839,053 parameters, 0 gradients, 10.2 GFLOPs\n"
          ]
        },
        {
          "output_type": "stream",
          "name": "stderr",
          "text": [
            "\r                 Class     Images  Instances      Box(P          R      mAP50  mAP50-95)     Mask(P          R      mAP50  mAP50-95):   0%|          | 0/10 [00:00<?, ?it/s]"
          ]
        },
        {
          "output_type": "stream",
          "name": "stdout",
          "text": [
            "WARNING ⚠️ Limiting validation plots to first 50 items per image for speed...\n"
          ]
        },
        {
          "output_type": "stream",
          "name": "stderr",
          "text": [
            "\r                 Class     Images  Instances      Box(P          R      mAP50  mAP50-95)     Mask(P          R      mAP50  mAP50-95):  10%|█         | 1/10 [00:00<00:05,  1.71it/s]"
          ]
        },
        {
          "output_type": "stream",
          "name": "stdout",
          "text": [
            "WARNING ⚠️ Limiting validation plots to first 50 items per image for speed...\n"
          ]
        },
        {
          "output_type": "stream",
          "name": "stderr",
          "text": [
            "\r                 Class     Images  Instances      Box(P          R      mAP50  mAP50-95)     Mask(P          R      mAP50  mAP50-95):  20%|██        | 2/10 [00:02<00:09,  1.20s/it]"
          ]
        },
        {
          "output_type": "stream",
          "name": "stdout",
          "text": [
            "WARNING ⚠️ Limiting validation plots to first 50 items per image for speed...\n",
            "WARNING ⚠️ Limiting validation plots to first 50 items per image for speed...\n",
            "WARNING ⚠️ Limiting validation plots to first 50 items per image for speed...\n"
          ]
        },
        {
          "output_type": "stream",
          "name": "stderr",
          "text": [
            "                 Class     Images  Instances      Box(P          R      mAP50  mAP50-95)     Mask(P          R      mAP50  mAP50-95): 100%|██████████| 10/10 [00:12<00:00,  1.21s/it]\n"
          ]
        },
        {
          "output_type": "stream",
          "name": "stdout",
          "text": [
            "                   all        401       2042      0.597      0.816      0.684      0.595      0.604      0.827      0.697      0.577\n",
            "           back_bumper         94         94      0.889      0.957      0.949      0.839       0.89      0.957      0.949      0.811\n",
            "             back_door        158        159      0.872      0.918      0.948      0.879      0.872      0.918      0.948      0.857\n",
            "            back_glass        114        115      0.964      0.939      0.977      0.882      0.965      0.939      0.977      0.853\n",
            "        back_left_door         15         15      0.416      0.867      0.635      0.588      0.416      0.867      0.635      0.566\n",
            "       back_left_light         19         19      0.488      0.842      0.598      0.466      0.493      0.842      0.598      0.407\n",
            "            back_light        161        226       0.85      0.912      0.912      0.708      0.842      0.903      0.904      0.664\n",
            "       back_right_door         12         12      0.365       0.75      0.436       0.42      0.365       0.75      0.436      0.379\n",
            "      back_right_light         13         13      0.384      0.923      0.438      0.329      0.384      0.923      0.438      0.325\n",
            "          front_bumper        208        208      0.923      0.985      0.978      0.935      0.923      0.985      0.978      0.927\n",
            "            front_door        167        167      0.872      0.958      0.951      0.886      0.873      0.958      0.951       0.87\n",
            "           front_glass        214        214      0.938      0.986      0.979      0.936      0.938      0.986      0.979      0.933\n",
            "       front_left_door         15         15      0.431        0.8      0.517      0.505      0.432        0.8      0.517       0.44\n",
            "      front_left_light         30         30      0.447      0.862      0.527      0.414       0.44      0.838      0.529      0.414\n",
            "           front_light        248        373      0.893      0.917      0.922      0.732      0.901      0.922      0.923      0.699\n",
            "      front_right_door         12         12       0.31      0.667      0.372      0.351      0.311      0.667      0.372       0.31\n",
            "     front_right_light         26         26      0.448      0.962      0.532      0.446      0.448      0.962      0.522      0.441\n",
            "                  hood        214        214      0.924       0.97      0.976      0.913      0.924       0.97      0.976      0.906\n",
            "           left_mirror         31         31       0.51      0.639        0.6      0.415      0.506      0.628        0.6      0.397\n",
            "                object          1          1          0          0          0          0          0          0          0          0\n",
            "          right_mirror         31         31      0.463      0.871      0.655      0.432      0.464      0.871      0.655      0.473\n",
            "              tailgate          5          5       0.41        0.8      0.743      0.675      0.513          1      0.898      0.711\n",
            "                 trunk          9          9      0.556      0.667      0.705      0.673      0.556      0.667      0.705      0.628\n",
            "                 wheel         34         53      0.379      0.585      0.394      0.271      0.441      0.679      0.552       0.27\n",
            "Speed: 0.3ms preprocess, 3.6ms inference, 0.0ms loss, 3.6ms postprocess per image\n",
            "Results saved to \u001b[1mruns/segment/train\u001b[0m\n",
            "\u001b[34m\u001b[1mUltralytics HUB: \u001b[0mSyncing final model...\n"
          ]
        },
        {
          "output_type": "stream",
          "name": "stderr",
          "text": [
            "100%|██████████| 5.74M/5.74M [00:01<00:00, 4.26MB/s]"
          ]
        },
        {
          "output_type": "stream",
          "name": "stdout",
          "text": [
            "\u001b[34m\u001b[1mUltralytics HUB: \u001b[0mDone ✅\n",
            "\u001b[34m\u001b[1mUltralytics HUB: \u001b[0mView model at https://hub.ultralytics.com/models/GxOBxL0Bx03wa9rublhs 🚀\n"
          ]
        },
        {
          "output_type": "stream",
          "name": "stderr",
          "text": [
            "\n"
          ]
        }
      ]
    },
    {
      "cell_type": "code",
      "source": [
        "import json\n",
        "import requests\n",
        "\n",
        "# Run inference on an image\n",
        "url = \"https://predict.ultralytics.com\"\n",
        "headers = {\"x-api-key\": \"d6a8bf2dc5337d8bf2c46cf4aaa9bf23bb09b70e4d\"}\n",
        "data = {\"model\": \"https://hub.ultralytics.com/models/GxOBxL0Bx03wa9rublhs\", \"imgsz\": 640, \"conf\": 0.25, \"iou\": 0.45}\n",
        "with open(\"/content/car.jpeg\", \"rb\") as f:\n",
        "\tresponse = requests.post(url, headers=headers, data=data, files={\"file\": f})\n",
        "\n",
        "# Check for successful response\n",
        "response.raise_for_status()\n",
        "\n",
        "# Print inference results\n",
        "print(json.dumps(response.json(), indent=2))"
      ],
      "metadata": {
        "id": "9RLyMaEWRri8",
        "outputId": "eeb7e646-9b14-40c2-9beb-58203231f862",
        "colab": {
          "base_uri": "https://localhost:8080/"
        }
      },
      "execution_count": null,
      "outputs": [
        {
          "output_type": "stream",
          "name": "stdout",
          "text": [
            "{\n",
            "  \"images\": [\n",
            "    {\n",
            "      \"results\": [\n",
            "        {\n",
            "          \"box\": {\n",
            "            \"x1\": 113.65956,\n",
            "            \"x2\": 270.15649,\n",
            "            \"y1\": 89.77701,\n",
            "            \"y2\": 134.32938\n",
            "          },\n",
            "          \"class\": 8,\n",
            "          \"confidence\": 0.95374,\n",
            "          \"name\": \"front_bumper\",\n",
            "          \"segments\": {\n",
            "            \"x\": [\n",
            "              116.24999237060547,\n",
            "              116.24999237060547,\n",
            "              115.31249237060547,\n",
            "              113.43749237060547,\n",
            "              113.43749237060547,\n",
            "              114.84374237060547,\n",
            "              115.78124237060547,\n",
            "              115.78124237060547,\n",
            "              116.24999237060547,\n",
            "              116.24999237060547,\n",
            "              116.71874237060547,\n",
            "              116.71874237060547,\n",
            "              117.18749237060547,\n",
            "              117.18749237060547,\n",
            "              117.65624237060547,\n",
            "              117.65624237060547,\n",
            "              118.12499237060547,\n",
            "              118.12499237060547,\n",
            "              118.59374237060547,\n",
            "              118.59374237060547,\n",
            "              119.06249237060547,\n",
            "              119.06249237060547,\n",
            "              119.53124237060547,\n",
            "              119.53124237060547,\n",
            "              119.99999237060547,\n",
            "              119.99999237060547,\n",
            "              120.46874237060547,\n",
            "              120.46874237060547,\n",
            "              120.93749237060547,\n",
            "              120.93749237060547,\n",
            "              121.40624237060547,\n",
            "              121.40624237060547,\n",
            "              121.87499237060547,\n",
            "              121.87499237060547,\n",
            "              122.34374237060547,\n",
            "              122.34374237060547,\n",
            "              122.81249237060547,\n",
            "              122.81249237060547,\n",
            "              123.28124237060547,\n",
            "              123.28124237060547,\n",
            "              125.15624237060547,\n",
            "              125.62499237060547,\n",
            "              126.09374237060547,\n",
            "              127.03124237060547,\n",
            "              127.49999237060547,\n",
            "              135.0,\n",
            "              135.46875,\n",
            "              137.8125,\n",
            "              138.28125,\n",
            "              142.03125,\n",
            "              142.5,\n",
            "              144.84375,\n",
            "              145.3125,\n",
            "              146.71873474121094,\n",
            "              147.18748474121094,\n",
            "              150.93748474121094,\n",
            "              152.34373474121094,\n",
            "              152.81248474121094,\n",
            "              153.28123474121094,\n",
            "              154.21873474121094,\n",
            "              154.68748474121094,\n",
            "              155.62498474121094,\n",
            "              156.09373474121094,\n",
            "              156.56248474121094,\n",
            "              157.03123474121094,\n",
            "              157.49998474121094,\n",
            "              157.96873474121094,\n",
            "              158.90623474121094,\n",
            "              159.37498474121094,\n",
            "              160.31248474121094,\n",
            "              160.78123474121094,\n",
            "              165.93748474121094,\n",
            "              167.81248474121094,\n",
            "              169.21873474121094,\n",
            "              170.62498474121094,\n",
            "              170.62498474121094,\n",
            "              211.87498474121094,\n",
            "              211.87498474121094,\n",
            "              212.81248474121094,\n",
            "              213.28123474121094,\n",
            "              213.74998474121094,\n",
            "              214.68748474121094,\n",
            "              215.15623474121094,\n",
            "              220.31248474121094,\n",
            "              220.78123474121094,\n",
            "              226.87498474121094,\n",
            "              227.34373474121094,\n",
            "              232.03123474121094,\n",
            "              232.49998474121094,\n",
            "              235.78123474121094,\n",
            "              236.24998474121094,\n",
            "              246.56248474121094,\n",
            "              247.03123474121094,\n",
            "              250.31248474121094,\n",
            "              250.78123474121094,\n",
            "              252.65623474121094,\n",
            "              254.53123474121094,\n",
            "              254.53123474121094,\n",
            "              262.03125,\n",
            "              262.03125,\n",
            "              262.5,\n",
            "              262.5,\n",
            "              265.3125,\n",
            "              265.78125,\n",
            "              267.65625,\n",
            "              267.65625,\n",
            "              268.125,\n",
            "              268.125,\n",
            "              268.59375,\n",
            "              268.59375,\n",
            "              269.0625,\n",
            "              269.0625,\n",
            "              269.53125,\n",
            "              269.53125,\n",
            "              270.0,\n",
            "              270.0,\n",
            "              269.53125,\n",
            "              269.53125,\n",
            "              269.0625,\n",
            "              269.0625,\n",
            "              268.59375,\n",
            "              268.59375,\n",
            "              268.125,\n",
            "              268.125,\n",
            "              267.65625,\n",
            "              267.65625,\n",
            "              267.1875,\n",
            "              267.1875,\n",
            "              262.03125,\n",
            "              262.03125,\n",
            "              261.5625,\n",
            "              261.09375,\n",
            "              260.625,\n",
            "              258.75,\n",
            "              258.28125,\n",
            "              256.40625,\n",
            "              255.93748474121094,\n",
            "              249.84373474121094,\n",
            "              248.90623474121094,\n",
            "              248.90623474121094,\n",
            "              248.43748474121094,\n",
            "              248.43748474121094,\n",
            "              165.93748474121094,\n",
            "              165.93748474121094,\n",
            "              165.46873474121094,\n",
            "              164.99998474121094,\n",
            "              164.53123474121094,\n",
            "              160.78123474121094,\n",
            "              160.31248474121094,\n",
            "              159.37498474121094,\n",
            "              158.90623474121094,\n",
            "              158.90623474121094,\n",
            "              151.87498474121094,\n",
            "              151.87498474121094,\n",
            "              151.40623474121094,\n",
            "              148.12498474121094,\n",
            "              147.65623474121094,\n",
            "              144.84375,\n",
            "              144.375,\n",
            "              138.75,\n",
            "              138.28125,\n",
            "              136.40625,\n",
            "              135.9375,\n",
            "              135.46875,\n",
            "              135.0,\n",
            "              135.0\n",
            "            ],\n",
            "            \"y\": [\n",
            "              90.56249237060547,\n",
            "              92.43749237060547,\n",
            "              93.37499237060547,\n",
            "              93.37499237060547,\n",
            "              97.12499237060547,\n",
            "              97.12499237060547,\n",
            "              98.06249237060547,\n",
            "              98.99999237060547,\n",
            "              99.46874237060547,\n",
            "              100.40624237060547,\n",
            "              100.87499237060547,\n",
            "              101.81249237060547,\n",
            "              102.28124237060547,\n",
            "              103.21874237060547,\n",
            "              103.68749237060547,\n",
            "              105.09374237060547,\n",
            "              105.56249237060547,\n",
            "              107.43749237060547,\n",
            "              107.90624237060547,\n",
            "              108.84374237060547,\n",
            "              109.31249237060547,\n",
            "              111.18749237060547,\n",
            "              111.65624237060547,\n",
            "              113.06249237060547,\n",
            "              113.53124237060547,\n",
            "              115.40624237060547,\n",
            "              115.87499237060547,\n",
            "              117.74999237060547,\n",
            "              118.21874237060547,\n",
            "              121.03125,\n",
            "              121.5,\n",
            "              123.375,\n",
            "              123.84375,\n",
            "              124.78125,\n",
            "              125.25,\n",
            "              126.1875,\n",
            "              126.65625,\n",
            "              128.0625,\n",
            "              128.53125,\n",
            "              129.0,\n",
            "              130.875,\n",
            "              130.875,\n",
            "              131.34375,\n",
            "              131.34375,\n",
            "              131.8125,\n",
            "              131.8125,\n",
            "              131.34375,\n",
            "              131.34375,\n",
            "              130.875,\n",
            "              130.875,\n",
            "              130.40625,\n",
            "              130.40625,\n",
            "              129.9375,\n",
            "              129.9375,\n",
            "              129.46875,\n",
            "              129.46875,\n",
            "              130.875,\n",
            "              130.875,\n",
            "              131.34375,\n",
            "              131.34375,\n",
            "              131.8125,\n",
            "              131.8125,\n",
            "              132.28125,\n",
            "              132.28125,\n",
            "              131.8125,\n",
            "              131.8125,\n",
            "              131.34375,\n",
            "              131.34375,\n",
            "              130.875,\n",
            "              130.875,\n",
            "              130.40625,\n",
            "              130.40625,\n",
            "              132.28125,\n",
            "              132.28125,\n",
            "              133.6875,\n",
            "              135.09375,\n",
            "              135.09375,\n",
            "              133.6875,\n",
            "              132.75,\n",
            "              132.75,\n",
            "              132.28125,\n",
            "              132.28125,\n",
            "              131.8125,\n",
            "              131.8125,\n",
            "              132.28125,\n",
            "              132.28125,\n",
            "              131.8125,\n",
            "              131.8125,\n",
            "              131.34375,\n",
            "              131.34375,\n",
            "              130.875,\n",
            "              130.875,\n",
            "              131.34375,\n",
            "              131.34375,\n",
            "              131.8125,\n",
            "              131.8125,\n",
            "              133.6875,\n",
            "              135.09375,\n",
            "              135.09375,\n",
            "              133.21875,\n",
            "              132.75,\n",
            "              132.28125,\n",
            "              129.46875,\n",
            "              129.46875,\n",
            "              127.59375,\n",
            "              127.125,\n",
            "              126.65625,\n",
            "              125.71875,\n",
            "              125.25,\n",
            "              123.84375,\n",
            "              123.375,\n",
            "              122.90625,\n",
            "              122.4375,\n",
            "              121.5,\n",
            "              121.03125,\n",
            "              106.96874237060547,\n",
            "              106.49999237060547,\n",
            "              104.15624237060547,\n",
            "              103.68749237060547,\n",
            "              101.81249237060547,\n",
            "              101.34374237060547,\n",
            "              99.93749237060547,\n",
            "              99.46874237060547,\n",
            "              97.12499237060547,\n",
            "              96.65624237060547,\n",
            "              93.37499237060547,\n",
            "              92.90624237060547,\n",
            "              90.56249237060547,\n",
            "              90.56249237060547,\n",
            "              91.96874237060547,\n",
            "              92.43749237060547,\n",
            "              92.43749237060547,\n",
            "              92.90624237060547,\n",
            "              92.90624237060547,\n",
            "              93.37499237060547,\n",
            "              93.37499237060547,\n",
            "              93.84374237060547,\n",
            "              93.84374237060547,\n",
            "              92.90624237060547,\n",
            "              92.43749237060547,\n",
            "              91.96874237060547,\n",
            "              90.56249237060547,\n",
            "              90.56249237060547,\n",
            "              91.96874237060547,\n",
            "              92.43749237060547,\n",
            "              92.43749237060547,\n",
            "              92.90624237060547,\n",
            "              92.90624237060547,\n",
            "              92.43749237060547,\n",
            "              92.43749237060547,\n",
            "              91.96874237060547,\n",
            "              90.56249237060547,\n",
            "              90.56249237060547,\n",
            "              91.96874237060547,\n",
            "              92.43749237060547,\n",
            "              92.43749237060547,\n",
            "              92.90624237060547,\n",
            "              92.90624237060547,\n",
            "              93.37499237060547,\n",
            "              93.37499237060547,\n",
            "              92.90624237060547,\n",
            "              92.90624237060547,\n",
            "              92.43749237060547,\n",
            "              92.43749237060547,\n",
            "              91.96874237060547,\n",
            "              90.56249237060547\n",
            "            ]\n",
            "          }\n",
            "        },\n",
            "        {\n",
            "          \"box\": {\n",
            "            \"x1\": 94.17308,\n",
            "            \"x2\": 216.22943,\n",
            "            \"y1\": 34.82945,\n",
            "            \"y2\": 63.75068\n",
            "          },\n",
            "          \"class\": 10,\n",
            "          \"confidence\": 0.90679,\n",
            "          \"name\": \"front_glass\",\n",
            "          \"segments\": {\n",
            "            \"x\": [\n",
            "              98.43749237060547,\n",
            "              98.43749237060547,\n",
            "              97.96874237060547,\n",
            "              97.03124237060547,\n",
            "              96.56249237060547,\n",
            "              94.68749237060547,\n",
            "              94.68749237060547,\n",
            "              96.09374237060547,\n",
            "              96.56249237060547,\n",
            "              96.56249237060547,\n",
            "              97.03124237060547,\n",
            "              97.03124237060547,\n",
            "              97.49999237060547,\n",
            "              97.49999237060547,\n",
            "              97.96874237060547,\n",
            "              97.96874237060547,\n",
            "              98.43749237060547,\n",
            "              98.43749237060547,\n",
            "              98.90624237060547,\n",
            "              98.90624237060547,\n",
            "              99.37499237060547,\n",
            "              99.37499237060547,\n",
            "              99.84374237060547,\n",
            "              99.84374237060547,\n",
            "              100.31249237060547,\n",
            "              100.78124237060547,\n",
            "              101.24999237060547,\n",
            "              101.71874237060547,\n",
            "              120.46874237060547,\n",
            "              120.93749237060547,\n",
            "              148.59373474121094,\n",
            "              149.06248474121094,\n",
            "              206.24998474121094,\n",
            "              206.71873474121094,\n",
            "              212.81248474121094,\n",
            "              213.28123474121094,\n",
            "              214.68748474121094,\n",
            "              215.15623474121094,\n",
            "              214.68748474121094,\n",
            "              214.68748474121094,\n",
            "              212.81248474121094,\n",
            "              212.34373474121094,\n",
            "              206.24998474121094,\n",
            "              205.78123474121094,\n",
            "              200.62498474121094,\n",
            "              200.15623474121094,\n",
            "              198.28123474121094,\n",
            "              197.81248474121094,\n",
            "              196.40623474121094,\n",
            "              195.93748474121094,\n",
            "              194.99998474121094,\n",
            "              194.53123474121094,\n",
            "              193.59373474121094,\n",
            "              193.12498474121094,\n",
            "              192.18748474121094,\n",
            "              191.71873474121094,\n",
            "              190.31248474121094,\n",
            "              189.84373474121094,\n",
            "              188.43748474121094,\n",
            "              187.96873474121094,\n",
            "              187.49998474121094,\n",
            "              187.03123474121094,\n",
            "              186.56248474121094,\n",
            "              186.09373474121094,\n",
            "              185.62498474121094,\n",
            "              185.15623474121094,\n",
            "              184.68748474121094,\n",
            "              183.74998474121094,\n",
            "              183.28123474121094,\n",
            "              181.87498474121094,\n",
            "              181.40623474121094,\n",
            "              179.99998474121094,\n",
            "              179.53123474121094,\n",
            "              179.53123474121094\n",
            "            ],\n",
            "            \"y\": [\n",
            "              34.3125,\n",
            "              35.7187385559082,\n",
            "              36.1875,\n",
            "              36.1875,\n",
            "              36.6562385559082,\n",
            "              36.6562385559082,\n",
            "              49.3125,\n",
            "              49.3125,\n",
            "              49.7812385559082,\n",
            "              50.25,\n",
            "              50.7187385559082,\n",
            "              52.125,\n",
            "              52.5937385559082,\n",
            "              54.0,\n",
            "              54.4687385559082,\n",
            "              55.875,\n",
            "              56.3437385559082,\n",
            "              57.2812385559082,\n",
            "              57.75,\n",
            "              59.625,\n",
            "              60.0937385559082,\n",
            "              61.5,\n",
            "              61.9687385559082,\n",
            "              62.4375,\n",
            "              62.4375,\n",
            "              62.9062385559082,\n",
            "              62.9062385559082,\n",
            "              63.375,\n",
            "              63.375,\n",
            "              62.9062385559082,\n",
            "              62.9062385559082,\n",
            "              62.4375,\n",
            "              62.4375,\n",
            "              62.9062385559082,\n",
            "              62.9062385559082,\n",
            "              62.4375,\n",
            "              62.4375,\n",
            "              61.9687385559082,\n",
            "              61.5,\n",
            "              61.0312385559082,\n",
            "              59.1562385559082,\n",
            "              59.1562385559082,\n",
            "              53.0625,\n",
            "              53.0625,\n",
            "              47.9062385559082,\n",
            "              47.9062385559082,\n",
            "              46.0312385559082,\n",
            "              46.0312385559082,\n",
            "              44.625,\n",
            "              44.625,\n",
            "              43.6875,\n",
            "              43.6875,\n",
            "              42.75,\n",
            "              42.75,\n",
            "              41.8125,\n",
            "              41.8125,\n",
            "              40.4062385559082,\n",
            "              40.4062385559082,\n",
            "              39.0,\n",
            "              39.0,\n",
            "              38.5312385559082,\n",
            "              38.5312385559082,\n",
            "              38.0625,\n",
            "              38.0625,\n",
            "              37.5937385559082,\n",
            "              37.5937385559082,\n",
            "              37.125,\n",
            "              37.125,\n",
            "              36.6562385559082,\n",
            "              36.6562385559082,\n",
            "              36.1875,\n",
            "              36.1875,\n",
            "              35.7187385559082,\n",
            "              34.3125\n",
            "            ]\n",
            "          }\n",
            "        },\n",
            "        {\n",
            "          \"box\": {\n",
            "            \"x1\": 104.26726,\n",
            "            \"x2\": 263.14975,\n",
            "            \"y1\": 62.75083,\n",
            "            \"y2\": 85.86583\n",
            "          },\n",
            "          \"class\": 16,\n",
            "          \"confidence\": 0.8946,\n",
            "          \"name\": \"hood\",\n",
            "          \"segments\": {\n",
            "            \"x\": [\n",
            "              104.06249237060547,\n",
            "              104.06249237060547,\n",
            "              105.46874237060547,\n",
            "              106.40624237060547,\n",
            "              106.87499237060547,\n",
            "              107.34374237060547,\n",
            "              109.21874237060547,\n",
            "              109.68749237060547,\n",
            "              112.03124237060547,\n",
            "              112.49999237060547,\n",
            "              114.84374237060547,\n",
            "              115.31249237060547,\n",
            "              116.71874237060547,\n",
            "              117.18749237060547,\n",
            "              119.06249237060547,\n",
            "              119.53124237060547,\n",
            "              120.46874237060547,\n",
            "              120.93749237060547,\n",
            "              122.34374237060547,\n",
            "              122.81249237060547,\n",
            "              123.28124237060547,\n",
            "              123.74999237060547,\n",
            "              124.68749237060547,\n",
            "              125.15624237060547,\n",
            "              126.56249237060547,\n",
            "              127.03124237060547,\n",
            "              127.96874237060547,\n",
            "              128.4375,\n",
            "              128.90625,\n",
            "              129.375,\n",
            "              129.84375,\n",
            "              130.3125,\n",
            "              131.25,\n",
            "              131.71875,\n",
            "              132.65625,\n",
            "              133.59375,\n",
            "              133.59375,\n",
            "              133.125,\n",
            "              133.125,\n",
            "              133.59375,\n",
            "              136.875,\n",
            "              137.34375,\n",
            "              141.5625,\n",
            "              142.03125,\n",
            "              150.46873474121094,\n",
            "              150.93748474121094,\n",
            "              158.90623474121094,\n",
            "              159.37498474121094,\n",
            "              178.12498474121094,\n",
            "              178.59373474121094,\n",
            "              185.62498474121094,\n",
            "              186.09373474121094,\n",
            "              237.18748474121094,\n",
            "              237.65623474121094,\n",
            "              242.34373474121094,\n",
            "              242.81248474121094,\n",
            "              244.21873474121094,\n",
            "              244.68748474121094,\n",
            "              247.03123474121094,\n",
            "              247.49998474121094,\n",
            "              250.31248474121094,\n",
            "              250.78123474121094,\n",
            "              253.12498474121094,\n",
            "              253.59373474121094,\n",
            "              255.46873474121094,\n",
            "              255.93748474121094,\n",
            "              259.21875,\n",
            "              259.6875,\n",
            "              260.625,\n",
            "              261.09375,\n",
            "              261.5625,\n",
            "              262.03125,\n",
            "              264.84375,\n",
            "              264.84375,\n",
            "              262.96875,\n",
            "              262.03125,\n",
            "              261.5625,\n",
            "              259.21875,\n",
            "              258.75,\n",
            "              256.875,\n",
            "              256.40625,\n",
            "              255.46873474121094,\n",
            "              254.99998474121094,\n",
            "              254.53123474121094,\n",
            "              254.06248474121094,\n",
            "              253.12498474121094,\n",
            "              252.65623474121094,\n",
            "              251.71873474121094,\n",
            "              251.24998474121094,\n",
            "              250.78123474121094,\n",
            "              249.84373474121094,\n",
            "              248.90623474121094,\n",
            "              248.43748474121094,\n",
            "              247.96873474121094,\n",
            "              247.03123474121094,\n",
            "              246.56248474121094,\n",
            "              245.62498474121094,\n",
            "              245.15623474121094,\n",
            "              244.68748474121094,\n",
            "              244.21873474121094,\n",
            "              243.28123474121094,\n",
            "              242.81248474121094,\n",
            "              241.87498474121094,\n",
            "              241.40623474121094,\n",
            "              240.46873474121094,\n",
            "              239.99998474121094,\n",
            "              239.06248474121094,\n",
            "              238.59373474121094,\n",
            "              237.65623474121094,\n",
            "              237.18748474121094,\n",
            "              235.78123474121094,\n",
            "              235.31248474121094,\n",
            "              233.43748474121094,\n",
            "              232.96873474121094,\n",
            "              231.56248474121094,\n",
            "              231.09373474121094,\n",
            "              229.21873474121094,\n",
            "              228.74998474121094,\n",
            "              227.81248474121094,\n",
            "              227.34373474121094,\n",
            "              227.34373474121094\n",
            "            ],\n",
            "            \"y\": [\n",
            "              62.4375,\n",
            "              70.40624237060547,\n",
            "              70.40624237060547,\n",
            "              71.34374237060547,\n",
            "              71.34374237060547,\n",
            "              71.81249237060547,\n",
            "              71.81249237060547,\n",
            "              72.28124237060547,\n",
            "              72.28124237060547,\n",
            "              72.74999237060547,\n",
            "              72.74999237060547,\n",
            "              73.21874237060547,\n",
            "              73.21874237060547,\n",
            "              73.68749237060547,\n",
            "              73.68749237060547,\n",
            "              74.15624237060547,\n",
            "              74.15624237060547,\n",
            "              74.62499237060547,\n",
            "              74.62499237060547,\n",
            "              75.09374237060547,\n",
            "              75.09374237060547,\n",
            "              75.56249237060547,\n",
            "              75.56249237060547,\n",
            "              76.03124237060547,\n",
            "              76.03124237060547,\n",
            "              76.49999237060547,\n",
            "              76.49999237060547,\n",
            "              76.96874237060547,\n",
            "              76.96874237060547,\n",
            "              77.43749237060547,\n",
            "              77.43749237060547,\n",
            "              77.90624237060547,\n",
            "              77.90624237060547,\n",
            "              78.37499237060547,\n",
            "              78.37499237060547,\n",
            "              79.31249237060547,\n",
            "              79.78124237060547,\n",
            "              80.24999237060547,\n",
            "              82.12499237060547,\n",
            "              82.59374237060547,\n",
            "              82.59374237060547,\n",
            "              83.06249237060547,\n",
            "              83.06249237060547,\n",
            "              83.53124237060547,\n",
            "              83.53124237060547,\n",
            "              83.99999237060547,\n",
            "              83.99999237060547,\n",
            "              84.46874237060547,\n",
            "              84.46874237060547,\n",
            "              84.93749237060547,\n",
            "              84.93749237060547,\n",
            "              85.40624237060547,\n",
            "              85.40624237060547,\n",
            "              84.93749237060547,\n",
            "              84.93749237060547,\n",
            "              85.40624237060547,\n",
            "              85.40624237060547,\n",
            "              84.93749237060547,\n",
            "              84.93749237060547,\n",
            "              84.46874237060547,\n",
            "              84.46874237060547,\n",
            "              83.99999237060547,\n",
            "              83.99999237060547,\n",
            "              83.53124237060547,\n",
            "              83.53124237060547,\n",
            "              83.06249237060547,\n",
            "              83.06249237060547,\n",
            "              82.59374237060547,\n",
            "              82.59374237060547,\n",
            "              82.12499237060547,\n",
            "              82.12499237060547,\n",
            "              81.65624237060547,\n",
            "              81.65624237060547,\n",
            "              80.24999237060547,\n",
            "              80.24999237060547,\n",
            "              79.31249237060547,\n",
            "              79.31249237060547,\n",
            "              76.96874237060547,\n",
            "              76.96874237060547,\n",
            "              75.09374237060547,\n",
            "              75.09374237060547,\n",
            "              74.15624237060547,\n",
            "              74.15624237060547,\n",
            "              73.68749237060547,\n",
            "              73.68749237060547,\n",
            "              72.74999237060547,\n",
            "              72.74999237060547,\n",
            "              71.81249237060547,\n",
            "              71.81249237060547,\n",
            "              71.34374237060547,\n",
            "              71.34374237060547,\n",
            "              70.40624237060547,\n",
            "              70.40624237060547,\n",
            "              69.93749237060547,\n",
            "              69.93749237060547,\n",
            "              69.46874237060547,\n",
            "              69.46874237060547,\n",
            "              68.99999237060547,\n",
            "              68.99999237060547,\n",
            "              68.53124237060547,\n",
            "              68.53124237060547,\n",
            "              68.06249237060547,\n",
            "              68.06249237060547,\n",
            "              67.59374237060547,\n",
            "              67.59374237060547,\n",
            "              67.12499237060547,\n",
            "              67.12499237060547,\n",
            "              66.65624237060547,\n",
            "              66.65624237060547,\n",
            "              66.18749237060547,\n",
            "              66.18749237060547,\n",
            "              65.71874237060547,\n",
            "              65.71874237060547,\n",
            "              65.24999237060547,\n",
            "              65.24999237060547,\n",
            "              64.78124237060547,\n",
            "              64.78124237060547,\n",
            "              64.31249237060547,\n",
            "              64.31249237060547,\n",
            "              63.8437385559082,\n",
            "              62.4375\n",
            "            ]\n",
            "          }\n",
            "        },\n",
            "        {\n",
            "          \"box\": {\n",
            "            \"x1\": 55.84785,\n",
            "            \"x2\": 96.76794,\n",
            "            \"y1\": 33.64504,\n",
            "            \"y2\": 123.96181\n",
            "          },\n",
            "          \"class\": 9,\n",
            "          \"confidence\": 0.88636,\n",
            "          \"name\": \"front_door\",\n",
            "          \"segments\": {\n",
            "            \"x\": [\n",
            "              74.06249237060547,\n",
            "              74.06249237060547,\n",
            "              73.59374237060547,\n",
            "              73.59374237060547,\n",
            "              73.125,\n",
            "              73.125,\n",
            "              72.1875,\n",
            "              72.1875,\n",
            "              71.71875,\n",
            "              71.71875,\n",
            "              71.25,\n",
            "              71.25,\n",
            "              70.78125,\n",
            "              70.78125,\n",
            "              70.3125,\n",
            "              70.3125,\n",
            "              69.84375,\n",
            "              69.84375,\n",
            "              69.375,\n",
            "              69.375,\n",
            "              68.90625,\n",
            "              68.90625,\n",
            "              68.4375,\n",
            "              68.4375,\n",
            "              67.96875,\n",
            "              67.96875,\n",
            "              67.5,\n",
            "              67.5,\n",
            "              67.03125,\n",
            "              67.03125,\n",
            "              66.5625,\n",
            "              66.5625,\n",
            "              66.09375,\n",
            "              66.09375,\n",
            "              65.625,\n",
            "              65.625,\n",
            "              64.6875,\n",
            "              64.6875,\n",
            "              64.21875,\n",
            "              64.21875,\n",
            "              63.75,\n",
            "              63.75,\n",
            "              63.2812385559082,\n",
            "              63.2812385559082,\n",
            "              62.3437385559082,\n",
            "              62.3437385559082,\n",
            "              61.875,\n",
            "              61.875,\n",
            "              61.4062385559082,\n",
            "              61.4062385559082,\n",
            "              60.9375,\n",
            "              60.9375,\n",
            "              60.4687385559082,\n",
            "              60.4687385559082,\n",
            "              60.0,\n",
            "              60.0,\n",
            "              59.0625,\n",
            "              59.0625,\n",
            "              58.5937385559082,\n",
            "              58.5937385559082,\n",
            "              58.125,\n",
            "              58.125,\n",
            "              57.6562385559082,\n",
            "              57.6562385559082,\n",
            "              58.125,\n",
            "              58.125,\n",
            "              57.6562385559082,\n",
            "              57.6562385559082,\n",
            "              57.1875,\n",
            "              57.1875,\n",
            "              56.7187385559082,\n",
            "              55.3125,\n",
            "              55.3125,\n",
            "              56.7187385559082,\n",
            "              57.1875,\n",
            "              57.1875,\n",
            "              56.7187385559082,\n",
            "              55.3125,\n",
            "              55.3125,\n",
            "              56.7187385559082,\n",
            "              57.6562385559082,\n",
            "              56.7187385559082,\n",
            "              55.3125,\n",
            "              55.3125,\n",
            "              56.7187385559082,\n",
            "              57.1875,\n",
            "              57.6562385559082,\n",
            "              58.125,\n",
            "              59.5312385559082,\n",
            "              60.0,\n",
            "              61.875,\n",
            "              62.3437385559082,\n",
            "              63.75,\n",
            "              64.21875,\n",
            "              66.09375,\n",
            "              66.5625,\n",
            "              69.375,\n",
            "              69.84375,\n",
            "              74.53124237060547,\n",
            "              74.99999237060547,\n",
            "              78.74999237060547,\n",
            "              79.21874237060547,\n",
            "              81.56249237060547,\n",
            "              82.03124237060547,\n",
            "              82.49999237060547,\n",
            "              82.96874237060547,\n",
            "              82.96874237060547,\n",
            "              89.06249237060547,\n",
            "              89.06249237060547,\n",
            "              89.99999237060547,\n",
            "              89.99999237060547,\n",
            "              90.46874237060547,\n",
            "              90.46874237060547,\n",
            "              90.93749237060547,\n",
            "              90.93749237060547,\n",
            "              91.40624237060547,\n",
            "              91.40624237060547,\n",
            "              91.87499237060547,\n",
            "              91.87499237060547,\n",
            "              92.34374237060547,\n",
            "              92.34374237060547,\n",
            "              92.81249237060547,\n",
            "              92.81249237060547,\n",
            "              93.28124237060547,\n",
            "              93.28124237060547,\n",
            "              93.74999237060547,\n",
            "              93.74999237060547,\n",
            "              94.21874237060547,\n",
            "              94.21874237060547,\n",
            "              94.68749237060547,\n",
            "              94.68749237060547,\n",
            "              95.15624237060547,\n",
            "              95.15624237060547,\n",
            "              94.68749237060547,\n",
            "              94.68749237060547,\n",
            "              94.21874237060547,\n",
            "              94.21874237060547,\n",
            "              93.74999237060547,\n",
            "              93.74999237060547,\n",
            "              93.28124237060547,\n",
            "              93.28124237060547,\n",
            "              93.74999237060547,\n",
            "              93.74999237060547,\n",
            "              94.21874237060547,\n",
            "              94.21874237060547,\n",
            "              94.68749237060547,\n",
            "              94.68749237060547,\n",
            "              95.15624237060547,\n",
            "              95.15624237060547,\n",
            "              94.68749237060547,\n",
            "              94.68749237060547,\n",
            "              94.21874237060547,\n",
            "              94.21874237060547,\n",
            "              93.74999237060547,\n",
            "              93.74999237060547,\n",
            "              93.28124237060547,\n",
            "              93.28124237060547,\n",
            "              92.81249237060547,\n",
            "              92.81249237060547,\n",
            "              92.34374237060547,\n",
            "              92.34374237060547,\n",
            "              91.87499237060547,\n",
            "              91.87499237060547,\n",
            "              91.40624237060547,\n",
            "              91.40624237060547,\n",
            "              90.93749237060547,\n",
            "              90.93749237060547,\n",
            "              90.46874237060547,\n",
            "              90.46874237060547,\n",
            "              89.99999237060547,\n",
            "              89.99999237060547,\n",
            "              88.59374237060547,\n",
            "              88.59374237060547,\n",
            "              88.12499237060547,\n",
            "              88.12499237060547\n",
            "            ],\n",
            "            \"y\": [\n",
            "              34.3125,\n",
            "              35.7187385559082,\n",
            "              36.1875,\n",
            "              36.6562385559082,\n",
            "              37.125,\n",
            "              37.5937385559082,\n",
            "              38.5312385559082,\n",
            "              39.0,\n",
            "              39.4687385559082,\n",
            "              39.9375,\n",
            "              40.4062385559082,\n",
            "              40.875,\n",
            "              41.3437385559082,\n",
            "              41.8125,\n",
            "              42.2812385559082,\n",
            "              42.75,\n",
            "              43.2187385559082,\n",
            "              44.625,\n",
            "              45.0937385559082,\n",
            "              46.0312385559082,\n",
            "              46.5,\n",
            "              47.4375,\n",
            "              47.9062385559082,\n",
            "              49.3125,\n",
            "              49.7812385559082,\n",
            "              51.1875,\n",
            "              51.6562385559082,\n",
            "              52.125,\n",
            "              52.5937385559082,\n",
            "              53.5312385559082,\n",
            "              54.0,\n",
            "              54.9375,\n",
            "              55.4062385559082,\n",
            "              56.3437385559082,\n",
            "              56.8125,\n",
            "              57.2812385559082,\n",
            "              58.2187385559082,\n",
            "              58.6875,\n",
            "              59.1562385559082,\n",
            "              59.625,\n",
            "              60.0937385559082,\n",
            "              60.5625,\n",
            "              61.0312385559082,\n",
            "              61.9687385559082,\n",
            "              62.9062385559082,\n",
            "              63.375,\n",
            "              63.8437385559082,\n",
            "              64.78124237060547,\n",
            "              65.24999237060547,\n",
            "              66.18749237060547,\n",
            "              66.65624237060547,\n",
            "              67.12499237060547,\n",
            "              67.59374237060547,\n",
            "              68.06249237060547,\n",
            "              68.53124237060547,\n",
            "              69.46874237060547,\n",
            "              70.40624237060547,\n",
            "              70.87499237060547,\n",
            "              71.34374237060547,\n",
            "              72.28124237060547,\n",
            "              72.74999237060547,\n",
            "              74.15624237060547,\n",
            "              74.62499237060547,\n",
            "              85.87499237060547,\n",
            "              86.34374237060547,\n",
            "              86.81249237060547,\n",
            "              87.28124237060547,\n",
            "              96.18749237060547,\n",
            "              96.65624237060547,\n",
            "              97.59374237060547,\n",
            "              98.06249237060547,\n",
            "              98.06249237060547,\n",
            "              98.53124237060547,\n",
            "              98.53124237060547,\n",
            "              98.99999237060547,\n",
            "              102.74999237060547,\n",
            "              103.21874237060547,\n",
            "              103.21874237060547,\n",
            "              112.12499237060547,\n",
            "              112.12499237060547,\n",
            "              113.06249237060547,\n",
            "              113.99999237060547,\n",
            "              113.99999237060547,\n",
            "              119.15624237060547,\n",
            "              119.15624237060547,\n",
            "              119.62499237060547,\n",
            "              119.62499237060547,\n",
            "              120.09375,\n",
            "              120.09375,\n",
            "              120.5625,\n",
            "              120.5625,\n",
            "              121.03125,\n",
            "              121.03125,\n",
            "              121.5,\n",
            "              121.5,\n",
            "              121.96875,\n",
            "              121.96875,\n",
            "              122.4375,\n",
            "              122.4375,\n",
            "              122.90625,\n",
            "              122.90625,\n",
            "              123.375,\n",
            "              123.375,\n",
            "              123.84375,\n",
            "              123.84375,\n",
            "              124.3125,\n",
            "              125.71875,\n",
            "              125.71875,\n",
            "              124.3125,\n",
            "              123.375,\n",
            "              122.90625,\n",
            "              122.4375,\n",
            "              121.03125,\n",
            "              120.5625,\n",
            "              118.21874237060547,\n",
            "              117.74999237060547,\n",
            "              115.40624237060547,\n",
            "              114.93749237060547,\n",
            "              113.06249237060547,\n",
            "              112.59374237060547,\n",
            "              111.18749237060547,\n",
            "              110.71874237060547,\n",
            "              109.78124237060547,\n",
            "              109.31249237060547,\n",
            "              106.03124237060547,\n",
            "              105.56249237060547,\n",
            "              100.40624237060547,\n",
            "              99.93749237060547,\n",
            "              98.06249237060547,\n",
            "              97.59374237060547,\n",
            "              94.78124237060547,\n",
            "              94.31249237060547,\n",
            "              85.87499237060547,\n",
            "              85.40624237060547,\n",
            "              81.18749237060547,\n",
            "              80.71874237060547,\n",
            "              76.03124237060547,\n",
            "              75.56249237060547,\n",
            "              74.62499237060547,\n",
            "              74.15624237060547,\n",
            "              72.28124237060547,\n",
            "              71.81249237060547,\n",
            "              67.59374237060547,\n",
            "              67.12499237060547,\n",
            "              66.65624237060547,\n",
            "              66.18749237060547,\n",
            "              65.24999237060547,\n",
            "              64.78124237060547,\n",
            "              61.5,\n",
            "              61.0312385559082,\n",
            "              59.1562385559082,\n",
            "              58.6875,\n",
            "              56.8125,\n",
            "              56.3437385559082,\n",
            "              54.9375,\n",
            "              54.4687385559082,\n",
            "              53.0625,\n",
            "              52.5937385559082,\n",
            "              51.1875,\n",
            "              50.7187385559082,\n",
            "              48.8437385559082,\n",
            "              48.375,\n",
            "              46.0312385559082,\n",
            "              45.5625,\n",
            "              44.1562385559082,\n",
            "              43.6875,\n",
            "              42.2812385559082,\n",
            "              41.8125,\n",
            "              39.4687385559082,\n",
            "              39.0,\n",
            "              38.0625,\n",
            "              36.6562385559082,\n",
            "              36.1875,\n",
            "              35.7187385559082,\n",
            "              34.3125\n",
            "            ]\n",
            "          }\n",
            "        },\n",
            "        {\n",
            "          \"box\": {\n",
            "            \"x1\": 30.72966,\n",
            "            \"x2\": 73.99667,\n",
            "            \"y1\": 34.11725,\n",
            "            \"y2\": 119.27522\n",
            "          },\n",
            "          \"class\": 1,\n",
            "          \"confidence\": 0.8834,\n",
            "          \"name\": \"back_door\",\n",
            "          \"segments\": {\n",
            "            \"x\": [\n",
            "              61.4062385559082,\n",
            "              61.4062385559082,\n",
            "              60.4687385559082,\n",
            "              60.0,\n",
            "              59.5312385559082,\n",
            "              59.0625,\n",
            "              58.5937385559082,\n",
            "              58.125,\n",
            "              57.6562385559082,\n",
            "              57.1875,\n",
            "              56.7187385559082,\n",
            "              56.25,\n",
            "              55.7812385559082,\n",
            "              55.3125,\n",
            "              54.8437385559082,\n",
            "              54.375,\n",
            "              53.9062385559082,\n",
            "              53.4375,\n",
            "              52.9687385559082,\n",
            "              52.5,\n",
            "              52.0312385559082,\n",
            "              51.5625,\n",
            "              50.625,\n",
            "              50.1562385559082,\n",
            "              49.6875,\n",
            "              49.2187385559082,\n",
            "              47.8125,\n",
            "              47.3437385559082,\n",
            "              46.875,\n",
            "              46.4062385559082,\n",
            "              45.0,\n",
            "              44.5312385559082,\n",
            "              41.25,\n",
            "              40.7812385559082,\n",
            "              38.4375,\n",
            "              37.9687385559082,\n",
            "              36.5625,\n",
            "              36.09375,\n",
            "              33.75,\n",
            "              33.75,\n",
            "              32.8125,\n",
            "              30.9375,\n",
            "              30.9375,\n",
            "              32.34375,\n",
            "              32.8125,\n",
            "              32.8125,\n",
            "              33.28125,\n",
            "              33.28125,\n",
            "              33.75,\n",
            "              33.75,\n",
            "              34.21875,\n",
            "              34.21875,\n",
            "              34.6875,\n",
            "              34.6875,\n",
            "              35.15625,\n",
            "              35.15625,\n",
            "              35.625,\n",
            "              35.625,\n",
            "              36.09375,\n",
            "              36.09375,\n",
            "              36.5625,\n",
            "              36.5625,\n",
            "              37.0312385559082,\n",
            "              37.0312385559082,\n",
            "              37.5,\n",
            "              37.5,\n",
            "              37.9687385559082,\n",
            "              37.9687385559082,\n",
            "              38.4375,\n",
            "              38.4375,\n",
            "              39.375,\n",
            "              39.8437385559082,\n",
            "              40.7812385559082,\n",
            "              40.7812385559082,\n",
            "              58.5937385559082,\n",
            "              58.5937385559082,\n",
            "              59.0625,\n",
            "              58.5937385559082,\n",
            "              58.5937385559082,\n",
            "              58.125,\n",
            "              58.125,\n",
            "              57.6562385559082,\n",
            "              57.6562385559082,\n",
            "              58.125,\n",
            "              58.125,\n",
            "              58.5937385559082,\n",
            "              58.5937385559082,\n",
            "              59.0625,\n",
            "              59.0625,\n",
            "              59.5312385559082,\n",
            "              59.5312385559082,\n",
            "              60.0,\n",
            "              60.0,\n",
            "              60.4687385559082,\n",
            "              60.4687385559082,\n",
            "              60.9375,\n",
            "              60.9375,\n",
            "              61.4062385559082,\n",
            "              61.4062385559082,\n",
            "              61.875,\n",
            "              61.875,\n",
            "              62.3437385559082,\n",
            "              62.3437385559082,\n",
            "              63.2812385559082,\n",
            "              63.2812385559082,\n",
            "              63.75,\n",
            "              63.75,\n",
            "              64.21875,\n",
            "              64.21875,\n",
            "              64.6875,\n",
            "              64.6875,\n",
            "              65.15625,\n",
            "              65.15625,\n",
            "              65.625,\n",
            "              65.625,\n",
            "              66.09375,\n",
            "              66.09375,\n",
            "              66.5625,\n",
            "              66.5625,\n",
            "              67.03125,\n",
            "              67.03125,\n",
            "              67.5,\n",
            "              67.5,\n",
            "              67.96875,\n",
            "              67.96875,\n",
            "              68.4375,\n",
            "              68.4375,\n",
            "              68.90625,\n",
            "              68.90625,\n",
            "              69.375,\n",
            "              69.375,\n",
            "              69.84375,\n",
            "              69.84375,\n",
            "              70.78125,\n",
            "              70.78125,\n",
            "              71.71875,\n",
            "              71.71875,\n",
            "              72.1875,\n",
            "              72.1875,\n",
            "              72.65625,\n",
            "              72.65625,\n",
            "              73.59374237060547,\n",
            "              73.59374237060547\n",
            "            ],\n",
            "            \"y\": [\n",
            "              34.3125,\n",
            "              35.7187385559082,\n",
            "              36.6562385559082,\n",
            "              36.6562385559082,\n",
            "              37.125,\n",
            "              37.125,\n",
            "              37.5937385559082,\n",
            "              37.5937385559082,\n",
            "              38.0625,\n",
            "              38.0625,\n",
            "              38.5312385559082,\n",
            "              38.5312385559082,\n",
            "              39.0,\n",
            "              39.0,\n",
            "              39.4687385559082,\n",
            "              39.4687385559082,\n",
            "              39.9375,\n",
            "              39.9375,\n",
            "              40.4062385559082,\n",
            "              40.4062385559082,\n",
            "              40.875,\n",
            "              40.875,\n",
            "              41.8125,\n",
            "              41.8125,\n",
            "              42.2812385559082,\n",
            "              42.2812385559082,\n",
            "              43.6875,\n",
            "              43.6875,\n",
            "              44.1562385559082,\n",
            "              44.1562385559082,\n",
            "              45.5625,\n",
            "              45.5625,\n",
            "              48.8437385559082,\n",
            "              48.8437385559082,\n",
            "              51.1875,\n",
            "              51.1875,\n",
            "              52.5937385559082,\n",
            "              52.5937385559082,\n",
            "              54.9375,\n",
            "              55.4062385559082,\n",
            "              56.3437385559082,\n",
            "              56.3437385559082,\n",
            "              98.99999237060547,\n",
            "              98.99999237060547,\n",
            "              99.46874237060547,\n",
            "              99.93749237060547,\n",
            "              100.40624237060547,\n",
            "              102.28124237060547,\n",
            "              102.74999237060547,\n",
            "              104.15624237060547,\n",
            "              104.62499237060547,\n",
            "              106.03124237060547,\n",
            "              106.49999237060547,\n",
            "              107.90624237060547,\n",
            "              108.37499237060547,\n",
            "              109.31249237060547,\n",
            "              109.78124237060547,\n",
            "              110.71874237060547,\n",
            "              111.18749237060547,\n",
            "              111.65624237060547,\n",
            "              112.12499237060547,\n",
            "              112.59374237060547,\n",
            "              113.06249237060547,\n",
            "              113.53124237060547,\n",
            "              113.99999237060547,\n",
            "              114.46874237060547,\n",
            "              114.93749237060547,\n",
            "              115.87499237060547,\n",
            "              116.34374237060547,\n",
            "              116.81249237060547,\n",
            "              117.74999237060547,\n",
            "              117.74999237060547,\n",
            "              118.68749237060547,\n",
            "              120.09375,\n",
            "              120.09375,\n",
            "              113.53124237060547,\n",
            "              113.06249237060547,\n",
            "              112.59374237060547,\n",
            "              111.65624237060547,\n",
            "              111.18749237060547,\n",
            "              108.84374237060547,\n",
            "              108.37499237060547,\n",
            "              82.59374237060547,\n",
            "              82.12499237060547,\n",
            "              73.68749237060547,\n",
            "              73.21874237060547,\n",
            "              72.28124237060547,\n",
            "              71.81249237060547,\n",
            "              70.87499237060547,\n",
            "              70.40624237060547,\n",
            "              69.46874237060547,\n",
            "              68.99999237060547,\n",
            "              68.06249237060547,\n",
            "              67.59374237060547,\n",
            "              67.12499237060547,\n",
            "              66.65624237060547,\n",
            "              66.18749237060547,\n",
            "              65.71874237060547,\n",
            "              64.78124237060547,\n",
            "              64.31249237060547,\n",
            "              63.8437385559082,\n",
            "              63.375,\n",
            "              62.9062385559082,\n",
            "              61.9687385559082,\n",
            "              60.5625,\n",
            "              60.0937385559082,\n",
            "              59.625,\n",
            "              59.1562385559082,\n",
            "              58.6875,\n",
            "              58.2187385559082,\n",
            "              57.2812385559082,\n",
            "              56.8125,\n",
            "              55.875,\n",
            "              55.4062385559082,\n",
            "              54.0,\n",
            "              53.5312385559082,\n",
            "              52.5937385559082,\n",
            "              52.125,\n",
            "              51.1875,\n",
            "              50.7187385559082,\n",
            "              50.25,\n",
            "              49.7812385559082,\n",
            "              48.8437385559082,\n",
            "              48.375,\n",
            "              46.9687385559082,\n",
            "              46.5,\n",
            "              45.0937385559082,\n",
            "              44.625,\n",
            "              43.6875,\n",
            "              43.2187385559082,\n",
            "              42.75,\n",
            "              42.2812385559082,\n",
            "              41.8125,\n",
            "              40.875,\n",
            "              40.4062385559082,\n",
            "              39.4687385559082,\n",
            "              39.0,\n",
            "              38.5312385559082,\n",
            "              37.5937385559082,\n",
            "              37.125,\n",
            "              36.6562385559082,\n",
            "              35.7187385559082,\n",
            "              34.3125\n",
            "            ]\n",
            "          }\n",
            "        },\n",
            "        {\n",
            "          \"box\": {\n",
            "            \"x1\": 213.62541,\n",
            "            \"x2\": 224.93791,\n",
            "            \"y1\": 54.0762,\n",
            "            \"y2\": 63.11722\n",
            "          },\n",
            "          \"class\": 19,\n",
            "          \"confidence\": 0.70433,\n",
            "          \"name\": \"right_mirror\",\n",
            "          \"segments\": {\n",
            "            \"x\": [\n",
            "              212.81248474121094,\n",
            "              212.81248474121094,\n",
            "              215.15623474121094,\n",
            "              218.43748474121094,\n",
            "              219.37498474121094,\n",
            "              220.31248474121094,\n",
            "              220.31248474121094,\n",
            "              221.71873474121094,\n",
            "              221.71873474121094,\n",
            "              222.18748474121094,\n",
            "              222.65623474121094,\n",
            "              223.12498474121094,\n",
            "              223.59373474121094,\n",
            "              224.06248474121094,\n",
            "              225.46873474121094,\n",
            "              225.46873474121094,\n",
            "              224.06248474121094,\n",
            "              223.12498474121094,\n",
            "              223.12498474121094\n",
            "            ],\n",
            "            \"y\": [\n",
            "              54.9375,\n",
            "              58.2187385559082,\n",
            "              58.2187385559082,\n",
            "              61.5,\n",
            "              61.5,\n",
            "              62.4375,\n",
            "              63.8437385559082,\n",
            "              63.8437385559082,\n",
            "              62.4375,\n",
            "              61.9687385559082,\n",
            "              61.9687385559082,\n",
            "              61.5,\n",
            "              61.5,\n",
            "              61.0312385559082,\n",
            "              61.0312385559082,\n",
            "              57.2812385559082,\n",
            "              57.2812385559082,\n",
            "              56.3437385559082,\n",
            "              54.9375\n",
            "            ]\n",
            "          }\n",
            "        },\n",
            "        {\n",
            "          \"box\": {\n",
            "            \"x1\": 246.00459,\n",
            "            \"x2\": 266.78415,\n",
            "            \"y1\": 82.08636,\n",
            "            \"y2\": 93.50034\n",
            "          },\n",
            "          \"class\": 13,\n",
            "          \"confidence\": 0.69023,\n",
            "          \"name\": \"front_light\",\n",
            "          \"segments\": {\n",
            "            \"x\": [\n",
            "              246.56248474121094,\n",
            "              246.56248474121094,\n",
            "              248.43748474121094,\n",
            "              250.78123474121094,\n",
            "              251.24998474121094,\n",
            "              251.71873474121094,\n",
            "              256.875,\n",
            "              257.34375,\n",
            "              259.21875,\n",
            "              259.6875,\n",
            "              262.03125,\n",
            "              262.5,\n",
            "              263.4375,\n",
            "              263.90625,\n",
            "              264.375,\n",
            "              264.84375,\n",
            "              265.3125,\n",
            "              265.78125,\n",
            "              266.25,\n",
            "              266.25,\n",
            "              267.1875,\n",
            "              268.59375,\n",
            "              268.59375,\n",
            "              267.1875,\n",
            "              266.71875,\n",
            "              266.71875,\n",
            "              266.25,\n",
            "              266.25\n",
            "            ],\n",
            "            \"y\": [\n",
            "              83.06249237060547,\n",
            "              90.09374237060547,\n",
            "              90.09374237060547,\n",
            "              92.43749237060547,\n",
            "              92.43749237060547,\n",
            "              92.90624237060547,\n",
            "              92.90624237060547,\n",
            "              92.43749237060547,\n",
            "              92.43749237060547,\n",
            "              91.96874237060547,\n",
            "              91.96874237060547,\n",
            "              91.49999237060547,\n",
            "              91.49999237060547,\n",
            "              91.03124237060547,\n",
            "              91.03124237060547,\n",
            "              90.56249237060547,\n",
            "              90.56249237060547,\n",
            "              90.09374237060547,\n",
            "              90.09374237060547,\n",
            "              89.62499237060547,\n",
            "              88.68749237060547,\n",
            "              88.68749237060547,\n",
            "              86.81249237060547,\n",
            "              86.81249237060547,\n",
            "              86.34374237060547,\n",
            "              85.87499237060547,\n",
            "              85.40624237060547,\n",
            "              83.06249237060547\n",
            "            ]\n",
            "          }\n",
            "        }\n",
            "      ],\n",
            "      \"shape\": [\n",
            "        168,\n",
            "        300\n",
            "      ],\n",
            "      \"speed\": {\n",
            "        \"inference\": 212.16151,\n",
            "        \"postprocess\": 8.40968,\n",
            "        \"preprocess\": 2.25761\n",
            "      }\n",
            "    }\n",
            "  ],\n",
            "  \"metadata\": {\n",
            "    \"functionTimeAlive\": 25720.528,\n",
            "    \"functionTimeCall\": 1.309,\n",
            "    \"imageCount\": 1,\n",
            "    \"model\": \"https://hub.ultralytics.com/models/GxOBxL0Bx03wa9rublhs\",\n",
            "    \"version\": {\n",
            "      \"python\": \"3.11.10\",\n",
            "      \"torch\": \"2.6.0+cpu\",\n",
            "      \"torchvision\": \"0.21.0+cpu\",\n",
            "      \"ultralytics\": \"8.3.103\"\n",
            "    }\n",
            "  }\n",
            "}\n"
          ]
        }
      ]
    },
    {
      "cell_type": "code",
      "source": [],
      "metadata": {
        "id": "yEw4H6NpdF_I"
      },
      "execution_count": null,
      "outputs": []
    }
  ],
  "metadata": {
    "accelerator": "GPU",
    "colab": {
      "provenance": [],
      "include_colab_link": true
    },
    "kernelspec": {
      "display_name": "Python 3",
      "name": "python3"
    },
    "language_info": {
      "name": "python"
    }
  },
  "nbformat": 4,
  "nbformat_minor": 0
}